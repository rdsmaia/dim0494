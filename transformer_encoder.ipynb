{
  "nbformat": 4,
  "nbformat_minor": 0,
  "metadata": {
    "colab": {
      "provenance": [],
      "gpuType": "T4",
      "authorship_tag": "ABX9TyNsWjuj3K8YaG8gUD7P5v3g",
      "include_colab_link": true
    },
    "kernelspec": {
      "name": "python3",
      "display_name": "Python 3"
    },
    "language_info": {
      "name": "python"
    },
    "accelerator": "GPU"
  },
  "cells": [
    {
      "cell_type": "markdown",
      "metadata": {
        "id": "view-in-github",
        "colab_type": "text"
      },
      "source": [
        "<a href=\"https://colab.research.google.com/github/rdsmaia/dim0494/blob/main/transformer_encoder.ipynb\" target=\"_parent\"><img src=\"https://colab.research.google.com/assets/colab-badge.svg\" alt=\"Open In Colab\"/></a>"
      ]
    },
    {
      "cell_type": "code",
      "source": [
        "import torch\n",
        "from math import sqrt\n",
        "from torch import nn\n",
        "import torch.nn.functional as F"
      ],
      "metadata": {
        "id": "SRedEg4j-Hxo"
      },
      "execution_count": 40,
      "outputs": []
    },
    {
      "cell_type": "code",
      "source": [
        "# hiperparâmetros (config)\n",
        "class Params():\n",
        "  embed_dim = 768                 # dimensão de cada vetor de entrada: x_t, t=1, ...,T (T é o número de vetores)\n",
        "  hidden_size = embed_dim         # dimensão dos vetores de saída do transformador\n",
        "  mlp_multi = 4                   # mlp_multi * model_dim é a dimensão das camadas feed-forward pontuais\n",
        "  num_attention_heads = 12        # número de cabeças dos módulos de atenção múltipla, devem dividir model_dim\n",
        "  hidden_dropout_prob = 0.2       # dropout das camadas FF\n",
        "  max_position_embeddings = 2000  # numéro máximo de vetores na entrada\n",
        "  num_hidden_layers = 12          # número de camadas do codificador\n",
        "  intermediate_size = mlp_multi * hidden_size\n",
        "\n",
        "config = Params()\n",
        "assert config.hidden_size % config.num_attention_heads == 0"
      ],
      "metadata": {
        "id": "vjjvAMSw-VHw"
      },
      "execution_count": 41,
      "outputs": []
    },
    {
      "cell_type": "code",
      "source": [
        "def scaled_dot_product_attention(query, key, value):\n",
        "  '''\n",
        "  Módulo de atenção simples, conforme mostrado aqui: https://arxiv.org/pdf/1706.03762\n",
        "\n",
        "  Entrada:\n",
        "    query - as consultas  (matriz Q)\n",
        "    key   - as chaves (matriz K)\n",
        "    value - os valores (matriz V)\n",
        "\n",
        "  Saída:\n",
        "    vetores contexto, dados por SOFTMAX(QK^T/sqrt(M_K))V\n",
        "  '''\n",
        "  dim_k = query.size(-1)\n",
        "  scores = torch.bmm(query, key.transpose(1, 2)) / sqrt(dim_k)\n",
        "  weights = F.softmax(scores, dim=-1)\n",
        "  return torch.bmm(weights, value)\n",
        "\n",
        "\n",
        "class AttentionHead(nn.Module):\n",
        "  '''\n",
        "  Implementa uma cabeça de atenção, ou seja, determina as\n",
        "  matrizes K, Q, V e chama o módulo de atenção simples.\n",
        "  '''\n",
        "  def __init__(self, embed_dim, head_dim):\n",
        "    '''\n",
        "    embed_dim: dimensão dos vetores de entrada.\n",
        "    head_dim: dimensão dos vetores contexto (latentes) de cada cabeça\n",
        "    '''\n",
        "    super().__init__()\n",
        "    self.q = nn.Linear(embed_dim, head_dim)\n",
        "    self.k = nn.Linear(embed_dim, head_dim)\n",
        "    self.v = nn.Linear(embed_dim, head_dim)\n",
        "\n",
        "  def forward(self, hidden_state):\n",
        "    '''\n",
        "    Entrada:\n",
        "      vetores latentes ou entrada.\n",
        "    Saída:\n",
        "      Novos vetores latentes.\n",
        "    '''\n",
        "    attn_outputs = scaled_dot_product_attention(\n",
        "        self.q(hidden_state), self.k(hidden_state), self.v(hidden_state)\n",
        "    )\n",
        "    return attn_outputs\n",
        "\n",
        "\n",
        "class MultiHeadAttention(nn.Module):\n",
        "  '''\n",
        "  Módulo de atenção múltiplo paralelo.\n",
        "  '''\n",
        "  def __init__(self, config):\n",
        "    super().__init__()\n",
        "    embed_dim = config.hidden_size\n",
        "    num_heads = config.num_attention_heads\n",
        "    head_dim = embed_dim // num_heads\n",
        "    self.heads = nn.ModuleList(\n",
        "        [AttentionHead(embed_dim, head_dim) for _ in range(num_heads)]\n",
        "    )\n",
        "    self.output_linear = nn.Linear(embed_dim, embed_dim)\n",
        "\n",
        "  def forward(self, hidden_state):\n",
        "    '''\n",
        "    Entrada:\n",
        "      vetores latentes ou entrada.\n",
        "    Saída:\n",
        "      Novos vetores latentes.\n",
        "    '''\n",
        "    x = torch.cat([h(hidden_state) for h in self.heads], dim=-1)\n",
        "    x = self.output_linear(x)\n",
        "    return x"
      ],
      "metadata": {
        "id": "QsiOPx-W-evh"
      },
      "execution_count": 43,
      "outputs": []
    },
    {
      "cell_type": "code",
      "source": [
        "# vamos definir o MHA\n",
        "mha = MultiHeadAttention(config)"
      ],
      "metadata": {
        "id": "hERbcH8E-jif"
      },
      "execution_count": 44,
      "outputs": []
    },
    {
      "cell_type": "code",
      "source": [
        "# vamos criar uma entrada aleatória e passá-la pelo MHA\n",
        "num_vectors = 10\n",
        "B = 2  # batch size\n",
        "X = torch.rand((B, num_vectors, config.embed_dim))\n",
        "print(X.shape)"
      ],
      "metadata": {
        "colab": {
          "base_uri": "https://localhost:8080/"
        },
        "id": "Biea4-26RSyf",
        "outputId": "ec31a86e-98de-4d1a-ce5c-75234b1a3635"
      },
      "execution_count": 45,
      "outputs": [
        {
          "output_type": "stream",
          "name": "stdout",
          "text": [
            "torch.Size([2, 10, 768])\n"
          ]
        }
      ]
    },
    {
      "cell_type": "code",
      "source": [
        "# note que o número de vetores na saída é o mesmo que na entrada.\n",
        "attn_output = mha(X)\n",
        "print(attn_output.size())"
      ],
      "metadata": {
        "colab": {
          "base_uri": "https://localhost:8080/"
        },
        "id": "IwZhK5xY-nUQ",
        "outputId": "fa1841f7-8ef8-49b0-fcea-904f39b1ff50"
      },
      "execution_count": 46,
      "outputs": [
        {
          "output_type": "stream",
          "name": "stdout",
          "text": [
            "torch.Size([2, 10, 768])\n"
          ]
        }
      ]
    },
    {
      "cell_type": "code",
      "source": [
        "class FeedForward(nn.Module):\n",
        "  '''\n",
        "  Camada feed-forward pontual.\n",
        "  '''\n",
        "  def __init__(self, config):\n",
        "    super().__init__()\n",
        "    self.linear_1 = nn.Linear(config.hidden_size, config.intermediate_size)\n",
        "    self.linear_2 = nn.Linear(config.intermediate_size, config.hidden_size)\n",
        "    self.gelu = nn.GELU()\n",
        "    self.dropout = nn.Dropout(config.hidden_dropout_prob)\n",
        "\n",
        "  def forward(self, x):\n",
        "    x = self.linear_1(x)\n",
        "    x = self.gelu(x)\n",
        "    x = self.linear_2(x)\n",
        "    x = self.gelu(x)\n",
        "    x = self.dropout(x)\n",
        "    return x\n"
      ],
      "metadata": {
        "id": "p8MhOGOlC7zw"
      },
      "execution_count": 47,
      "outputs": []
    },
    {
      "cell_type": "code",
      "source": [
        "# definimos a camada FF e passamos a saída do módulo MHA\n",
        "feed_forward = FeedForward(config)\n",
        "ff_output = feed_forward(attn_output)\n",
        "print(ff_output.size())"
      ],
      "metadata": {
        "colab": {
          "base_uri": "https://localhost:8080/"
        },
        "id": "s2rLt7UIER6s",
        "outputId": "a07f1982-0337-4adb-d8d2-284ba7a58535"
      },
      "execution_count": 48,
      "outputs": [
        {
          "output_type": "stream",
          "name": "stdout",
          "text": [
            "torch.Size([2, 10, 768])\n"
          ]
        }
      ]
    },
    {
      "cell_type": "code",
      "source": [
        "class TransformerEncoderLayer(nn.Module):\n",
        "  '''\n",
        "  Uma camanda de codificação, que envolve: MHA, LayerNorm e FF.\n",
        "  '''\n",
        "  def __init__(self, config):\n",
        "    super().__init__()\n",
        "    self.layer_norm_1 = nn.LayerNorm(config.hidden_size)\n",
        "    self.layer_norm_2 = nn.LayerNorm(config.hidden_size)\n",
        "    self.attention = MultiHeadAttention(config)\n",
        "    self.feed_forward = FeedForward(config)\n",
        "\n",
        "  def forward(self, x):\n",
        "    hidden_state = self.layer_norm_1(x)\n",
        "    x = x + self.attention(hidden_state)\n",
        "    x = x + self.feed_forward(self.layer_norm_2(x))\n",
        "    return x\n"
      ],
      "metadata": {
        "id": "QM0Hrs7hFO8j"
      },
      "execution_count": 49,
      "outputs": []
    },
    {
      "cell_type": "code",
      "source": [
        "# Vamos definir a nossa camada de codificação e passar nossa entrada por ela\n",
        "encoder_layer = TransformerEncoderLayer(config)\n",
        "Y = encoder_layer(X)\n",
        "print(Y.shape)"
      ],
      "metadata": {
        "colab": {
          "base_uri": "https://localhost:8080/"
        },
        "id": "ef3gGk3IHEnc",
        "outputId": "42b35fc1-6398-4df9-f8a1-a3002d6f1c2f"
      },
      "execution_count": 50,
      "outputs": [
        {
          "output_type": "stream",
          "name": "stdout",
          "text": [
            "torch.Size([2, 10, 768])\n"
          ]
        }
      ]
    },
    {
      "cell_type": "code",
      "source": [
        "class Embeddings(nn.Module):\n",
        "  '''\n",
        "  Embeddings de posição e adição aos vetores de entrada.\n",
        "  '''\n",
        "  def __init__(self, config):\n",
        "    super().__init__()\n",
        "    self.position_embeddings = nn.Embedding(config.max_position_embeddings, config.hidden_size)\n",
        "    self.layer_norm = nn.LayerNorm(config.hidden_size, eps=1e-12)\n",
        "    self.dropout =nn.Dropout()\n",
        "\n",
        "  def forward(self, input):\n",
        "    # tamanho da sequência de entrada\n",
        "    seq_length = input.size(1)\n",
        "    # cria um vetor de posições e.g. (0, 1, 2, ..., T-1)\n",
        "    position_ids = torch.arange(seq_length, dtype=torch.long).unsqueeze(0)\n",
        "    # obtém os embeddings de posição\n",
        "    position_embeddings = self.position_embeddings(position_ids)\n",
        "    embeddings = input + position_embeddings\n",
        "    embeddings = self.layer_norm(embeddings)\n",
        "    embeddings = self.dropout(embeddings)\n",
        "    return embeddings\n"
      ],
      "metadata": {
        "id": "O16sikhwHnDc"
      },
      "execution_count": 51,
      "outputs": []
    },
    {
      "cell_type": "code",
      "source": [
        "# cria camada embedding e passa os vetores de entrada por ela\n",
        "embedding_layer = Embeddings(config)\n",
        "X_pos = embedding_layer(X)\n",
        "print(X_pos.shape)"
      ],
      "metadata": {
        "colab": {
          "base_uri": "https://localhost:8080/"
        },
        "id": "1A9Nd4bXJ8MB",
        "outputId": "1b0dda59-1349-4090-9feb-d3b9281ad4d2"
      },
      "execution_count": 52,
      "outputs": [
        {
          "output_type": "stream",
          "name": "stdout",
          "text": [
            "torch.Size([2, 10, 768])\n"
          ]
        }
      ]
    },
    {
      "cell_type": "code",
      "source": [
        "class TransformerEncoder(nn.Module):\n",
        "  '''\n",
        "  Implementa um codificador (transformer)\n",
        "  '''\n",
        "  def __init__(self, config):\n",
        "    super().__init__()\n",
        "    self.embeddings = Embeddings(config)\n",
        "    self.layers = nn.ModuleList(\n",
        "        TransformerEncoderLayer(config) for _ in range(config.num_hidden_layers)\n",
        "    )\n",
        "\n",
        "  def forward(self, x):\n",
        "    x = self.embeddings(x)\n",
        "    for layer in self.layers:\n",
        "      x = layer(x)\n",
        "    return x\n"
      ],
      "metadata": {
        "id": "NOWRPh-gKfV4"
      },
      "execution_count": 53,
      "outputs": []
    },
    {
      "cell_type": "code",
      "source": [
        "# define o codificador\n",
        "encoder = TransformerEncoder(config)"
      ],
      "metadata": {
        "id": "f8danm69Lq7d"
      },
      "execution_count": 54,
      "outputs": []
    },
    {
      "cell_type": "code",
      "source": [
        "# passa a entrada pelo codificador\n",
        "Y = encoder(X)\n",
        "print(Y.shape)"
      ],
      "metadata": {
        "colab": {
          "base_uri": "https://localhost:8080/"
        },
        "id": "RQeLhIWwLyKH",
        "outputId": "370a40e4-a282-4baa-960f-0fb7df9642b2"
      },
      "execution_count": 55,
      "outputs": [
        {
          "output_type": "stream",
          "name": "stdout",
          "text": [
            "torch.Size([2, 10, 768])\n"
          ]
        }
      ]
    }
  ]
}