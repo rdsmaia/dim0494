{
  "nbformat": 4,
  "nbformat_minor": 0,
  "metadata": {
    "colab": {
      "provenance": [],
      "authorship_tag": "ABX9TyP39fai+eucY+ZCrPT7ulzq",
      "include_colab_link": true
    },
    "kernelspec": {
      "name": "python3",
      "display_name": "Python 3"
    },
    "language_info": {
      "name": "python"
    },
    "widgets": {
      "application/vnd.jupyter.widget-state+json": {
        "fd3d1876b91a4acda02f31d96e17cde1": {
          "model_module": "@jupyter-widgets/controls",
          "model_name": "HBoxModel",
          "model_module_version": "1.5.0",
          "state": {
            "_dom_classes": [],
            "_model_module": "@jupyter-widgets/controls",
            "_model_module_version": "1.5.0",
            "_model_name": "HBoxModel",
            "_view_count": null,
            "_view_module": "@jupyter-widgets/controls",
            "_view_module_version": "1.5.0",
            "_view_name": "HBoxView",
            "box_style": "",
            "children": [
              "IPY_MODEL_27028e666cf94274a3cdff6a7eb88145",
              "IPY_MODEL_a61f859b4eaf4122af0166749585de8f",
              "IPY_MODEL_27c7742a36234f01bd617438bbd61348"
            ],
            "layout": "IPY_MODEL_c09e0870a949409b9e6770c4bdc72486"
          }
        },
        "27028e666cf94274a3cdff6a7eb88145": {
          "model_module": "@jupyter-widgets/controls",
          "model_name": "HTMLModel",
          "model_module_version": "1.5.0",
          "state": {
            "_dom_classes": [],
            "_model_module": "@jupyter-widgets/controls",
            "_model_module_version": "1.5.0",
            "_model_name": "HTMLModel",
            "_view_count": null,
            "_view_module": "@jupyter-widgets/controls",
            "_view_module_version": "1.5.0",
            "_view_name": "HTMLView",
            "description": "",
            "description_tooltip": null,
            "layout": "IPY_MODEL_411c69b5966841bc91c180b6ed74b795",
            "placeholder": "​",
            "style": "IPY_MODEL_ec52de1e47b64aca953cd09bf240540a",
            "value": "tokenizer_config.json: 100%"
          }
        },
        "a61f859b4eaf4122af0166749585de8f": {
          "model_module": "@jupyter-widgets/controls",
          "model_name": "FloatProgressModel",
          "model_module_version": "1.5.0",
          "state": {
            "_dom_classes": [],
            "_model_module": "@jupyter-widgets/controls",
            "_model_module_version": "1.5.0",
            "_model_name": "FloatProgressModel",
            "_view_count": null,
            "_view_module": "@jupyter-widgets/controls",
            "_view_module_version": "1.5.0",
            "_view_name": "ProgressView",
            "bar_style": "success",
            "description": "",
            "description_tooltip": null,
            "layout": "IPY_MODEL_688972de5cbd41d19c31b14ea0173936",
            "max": 48,
            "min": 0,
            "orientation": "horizontal",
            "style": "IPY_MODEL_689ba485432d4330b4b873fa62b38c4c",
            "value": 48
          }
        },
        "27c7742a36234f01bd617438bbd61348": {
          "model_module": "@jupyter-widgets/controls",
          "model_name": "HTMLModel",
          "model_module_version": "1.5.0",
          "state": {
            "_dom_classes": [],
            "_model_module": "@jupyter-widgets/controls",
            "_model_module_version": "1.5.0",
            "_model_name": "HTMLModel",
            "_view_count": null,
            "_view_module": "@jupyter-widgets/controls",
            "_view_module_version": "1.5.0",
            "_view_name": "HTMLView",
            "description": "",
            "description_tooltip": null,
            "layout": "IPY_MODEL_bc74b824ef854c56a2ed13e85640f5a9",
            "placeholder": "​",
            "style": "IPY_MODEL_250532d448dd497d9aec6c5e2529210d",
            "value": " 48.0/48.0 [00:00&lt;00:00, 996B/s]"
          }
        },
        "c09e0870a949409b9e6770c4bdc72486": {
          "model_module": "@jupyter-widgets/base",
          "model_name": "LayoutModel",
          "model_module_version": "1.2.0",
          "state": {
            "_model_module": "@jupyter-widgets/base",
            "_model_module_version": "1.2.0",
            "_model_name": "LayoutModel",
            "_view_count": null,
            "_view_module": "@jupyter-widgets/base",
            "_view_module_version": "1.2.0",
            "_view_name": "LayoutView",
            "align_content": null,
            "align_items": null,
            "align_self": null,
            "border": null,
            "bottom": null,
            "display": null,
            "flex": null,
            "flex_flow": null,
            "grid_area": null,
            "grid_auto_columns": null,
            "grid_auto_flow": null,
            "grid_auto_rows": null,
            "grid_column": null,
            "grid_gap": null,
            "grid_row": null,
            "grid_template_areas": null,
            "grid_template_columns": null,
            "grid_template_rows": null,
            "height": null,
            "justify_content": null,
            "justify_items": null,
            "left": null,
            "margin": null,
            "max_height": null,
            "max_width": null,
            "min_height": null,
            "min_width": null,
            "object_fit": null,
            "object_position": null,
            "order": null,
            "overflow": null,
            "overflow_x": null,
            "overflow_y": null,
            "padding": null,
            "right": null,
            "top": null,
            "visibility": null,
            "width": null
          }
        },
        "411c69b5966841bc91c180b6ed74b795": {
          "model_module": "@jupyter-widgets/base",
          "model_name": "LayoutModel",
          "model_module_version": "1.2.0",
          "state": {
            "_model_module": "@jupyter-widgets/base",
            "_model_module_version": "1.2.0",
            "_model_name": "LayoutModel",
            "_view_count": null,
            "_view_module": "@jupyter-widgets/base",
            "_view_module_version": "1.2.0",
            "_view_name": "LayoutView",
            "align_content": null,
            "align_items": null,
            "align_self": null,
            "border": null,
            "bottom": null,
            "display": null,
            "flex": null,
            "flex_flow": null,
            "grid_area": null,
            "grid_auto_columns": null,
            "grid_auto_flow": null,
            "grid_auto_rows": null,
            "grid_column": null,
            "grid_gap": null,
            "grid_row": null,
            "grid_template_areas": null,
            "grid_template_columns": null,
            "grid_template_rows": null,
            "height": null,
            "justify_content": null,
            "justify_items": null,
            "left": null,
            "margin": null,
            "max_height": null,
            "max_width": null,
            "min_height": null,
            "min_width": null,
            "object_fit": null,
            "object_position": null,
            "order": null,
            "overflow": null,
            "overflow_x": null,
            "overflow_y": null,
            "padding": null,
            "right": null,
            "top": null,
            "visibility": null,
            "width": null
          }
        },
        "ec52de1e47b64aca953cd09bf240540a": {
          "model_module": "@jupyter-widgets/controls",
          "model_name": "DescriptionStyleModel",
          "model_module_version": "1.5.0",
          "state": {
            "_model_module": "@jupyter-widgets/controls",
            "_model_module_version": "1.5.0",
            "_model_name": "DescriptionStyleModel",
            "_view_count": null,
            "_view_module": "@jupyter-widgets/base",
            "_view_module_version": "1.2.0",
            "_view_name": "StyleView",
            "description_width": ""
          }
        },
        "688972de5cbd41d19c31b14ea0173936": {
          "model_module": "@jupyter-widgets/base",
          "model_name": "LayoutModel",
          "model_module_version": "1.2.0",
          "state": {
            "_model_module": "@jupyter-widgets/base",
            "_model_module_version": "1.2.0",
            "_model_name": "LayoutModel",
            "_view_count": null,
            "_view_module": "@jupyter-widgets/base",
            "_view_module_version": "1.2.0",
            "_view_name": "LayoutView",
            "align_content": null,
            "align_items": null,
            "align_self": null,
            "border": null,
            "bottom": null,
            "display": null,
            "flex": null,
            "flex_flow": null,
            "grid_area": null,
            "grid_auto_columns": null,
            "grid_auto_flow": null,
            "grid_auto_rows": null,
            "grid_column": null,
            "grid_gap": null,
            "grid_row": null,
            "grid_template_areas": null,
            "grid_template_columns": null,
            "grid_template_rows": null,
            "height": null,
            "justify_content": null,
            "justify_items": null,
            "left": null,
            "margin": null,
            "max_height": null,
            "max_width": null,
            "min_height": null,
            "min_width": null,
            "object_fit": null,
            "object_position": null,
            "order": null,
            "overflow": null,
            "overflow_x": null,
            "overflow_y": null,
            "padding": null,
            "right": null,
            "top": null,
            "visibility": null,
            "width": null
          }
        },
        "689ba485432d4330b4b873fa62b38c4c": {
          "model_module": "@jupyter-widgets/controls",
          "model_name": "ProgressStyleModel",
          "model_module_version": "1.5.0",
          "state": {
            "_model_module": "@jupyter-widgets/controls",
            "_model_module_version": "1.5.0",
            "_model_name": "ProgressStyleModel",
            "_view_count": null,
            "_view_module": "@jupyter-widgets/base",
            "_view_module_version": "1.2.0",
            "_view_name": "StyleView",
            "bar_color": null,
            "description_width": ""
          }
        },
        "bc74b824ef854c56a2ed13e85640f5a9": {
          "model_module": "@jupyter-widgets/base",
          "model_name": "LayoutModel",
          "model_module_version": "1.2.0",
          "state": {
            "_model_module": "@jupyter-widgets/base",
            "_model_module_version": "1.2.0",
            "_model_name": "LayoutModel",
            "_view_count": null,
            "_view_module": "@jupyter-widgets/base",
            "_view_module_version": "1.2.0",
            "_view_name": "LayoutView",
            "align_content": null,
            "align_items": null,
            "align_self": null,
            "border": null,
            "bottom": null,
            "display": null,
            "flex": null,
            "flex_flow": null,
            "grid_area": null,
            "grid_auto_columns": null,
            "grid_auto_flow": null,
            "grid_auto_rows": null,
            "grid_column": null,
            "grid_gap": null,
            "grid_row": null,
            "grid_template_areas": null,
            "grid_template_columns": null,
            "grid_template_rows": null,
            "height": null,
            "justify_content": null,
            "justify_items": null,
            "left": null,
            "margin": null,
            "max_height": null,
            "max_width": null,
            "min_height": null,
            "min_width": null,
            "object_fit": null,
            "object_position": null,
            "order": null,
            "overflow": null,
            "overflow_x": null,
            "overflow_y": null,
            "padding": null,
            "right": null,
            "top": null,
            "visibility": null,
            "width": null
          }
        },
        "250532d448dd497d9aec6c5e2529210d": {
          "model_module": "@jupyter-widgets/controls",
          "model_name": "DescriptionStyleModel",
          "model_module_version": "1.5.0",
          "state": {
            "_model_module": "@jupyter-widgets/controls",
            "_model_module_version": "1.5.0",
            "_model_name": "DescriptionStyleModel",
            "_view_count": null,
            "_view_module": "@jupyter-widgets/base",
            "_view_module_version": "1.2.0",
            "_view_name": "StyleView",
            "description_width": ""
          }
        },
        "53d6677330b1431b8b7a634a74465c7f": {
          "model_module": "@jupyter-widgets/controls",
          "model_name": "HBoxModel",
          "model_module_version": "1.5.0",
          "state": {
            "_dom_classes": [],
            "_model_module": "@jupyter-widgets/controls",
            "_model_module_version": "1.5.0",
            "_model_name": "HBoxModel",
            "_view_count": null,
            "_view_module": "@jupyter-widgets/controls",
            "_view_module_version": "1.5.0",
            "_view_name": "HBoxView",
            "box_style": "",
            "children": [
              "IPY_MODEL_09bb083c9b8b4b22b90d6841a2545a77",
              "IPY_MODEL_40061eb2cb744428b63717abb4cd6f9c",
              "IPY_MODEL_81b13214d1d54b8083cb0ad18697280a"
            ],
            "layout": "IPY_MODEL_3836010be61345c099a9986a6ac7e1a0"
          }
        },
        "09bb083c9b8b4b22b90d6841a2545a77": {
          "model_module": "@jupyter-widgets/controls",
          "model_name": "HTMLModel",
          "model_module_version": "1.5.0",
          "state": {
            "_dom_classes": [],
            "_model_module": "@jupyter-widgets/controls",
            "_model_module_version": "1.5.0",
            "_model_name": "HTMLModel",
            "_view_count": null,
            "_view_module": "@jupyter-widgets/controls",
            "_view_module_version": "1.5.0",
            "_view_name": "HTMLView",
            "description": "",
            "description_tooltip": null,
            "layout": "IPY_MODEL_f5cfaf9aed6040ad9063e89a06cd753c",
            "placeholder": "​",
            "style": "IPY_MODEL_c5905c0353b3442c8157ebd4e1a28ea3",
            "value": "config.json: 100%"
          }
        },
        "40061eb2cb744428b63717abb4cd6f9c": {
          "model_module": "@jupyter-widgets/controls",
          "model_name": "FloatProgressModel",
          "model_module_version": "1.5.0",
          "state": {
            "_dom_classes": [],
            "_model_module": "@jupyter-widgets/controls",
            "_model_module_version": "1.5.0",
            "_model_name": "FloatProgressModel",
            "_view_count": null,
            "_view_module": "@jupyter-widgets/controls",
            "_view_module_version": "1.5.0",
            "_view_name": "ProgressView",
            "bar_style": "success",
            "description": "",
            "description_tooltip": null,
            "layout": "IPY_MODEL_1b3e8aad5b584c7389f2f55c8d2c38dd",
            "max": 570,
            "min": 0,
            "orientation": "horizontal",
            "style": "IPY_MODEL_ec27497dc7e9477c82f08659f58cb0e0",
            "value": 570
          }
        },
        "81b13214d1d54b8083cb0ad18697280a": {
          "model_module": "@jupyter-widgets/controls",
          "model_name": "HTMLModel",
          "model_module_version": "1.5.0",
          "state": {
            "_dom_classes": [],
            "_model_module": "@jupyter-widgets/controls",
            "_model_module_version": "1.5.0",
            "_model_name": "HTMLModel",
            "_view_count": null,
            "_view_module": "@jupyter-widgets/controls",
            "_view_module_version": "1.5.0",
            "_view_name": "HTMLView",
            "description": "",
            "description_tooltip": null,
            "layout": "IPY_MODEL_75d525638b51456f8dc1cb8be2cfddcc",
            "placeholder": "​",
            "style": "IPY_MODEL_7eb01ae734bd4be09177771bf7df68e6",
            "value": " 570/570 [00:00&lt;00:00, 6.95kB/s]"
          }
        },
        "3836010be61345c099a9986a6ac7e1a0": {
          "model_module": "@jupyter-widgets/base",
          "model_name": "LayoutModel",
          "model_module_version": "1.2.0",
          "state": {
            "_model_module": "@jupyter-widgets/base",
            "_model_module_version": "1.2.0",
            "_model_name": "LayoutModel",
            "_view_count": null,
            "_view_module": "@jupyter-widgets/base",
            "_view_module_version": "1.2.0",
            "_view_name": "LayoutView",
            "align_content": null,
            "align_items": null,
            "align_self": null,
            "border": null,
            "bottom": null,
            "display": null,
            "flex": null,
            "flex_flow": null,
            "grid_area": null,
            "grid_auto_columns": null,
            "grid_auto_flow": null,
            "grid_auto_rows": null,
            "grid_column": null,
            "grid_gap": null,
            "grid_row": null,
            "grid_template_areas": null,
            "grid_template_columns": null,
            "grid_template_rows": null,
            "height": null,
            "justify_content": null,
            "justify_items": null,
            "left": null,
            "margin": null,
            "max_height": null,
            "max_width": null,
            "min_height": null,
            "min_width": null,
            "object_fit": null,
            "object_position": null,
            "order": null,
            "overflow": null,
            "overflow_x": null,
            "overflow_y": null,
            "padding": null,
            "right": null,
            "top": null,
            "visibility": null,
            "width": null
          }
        },
        "f5cfaf9aed6040ad9063e89a06cd753c": {
          "model_module": "@jupyter-widgets/base",
          "model_name": "LayoutModel",
          "model_module_version": "1.2.0",
          "state": {
            "_model_module": "@jupyter-widgets/base",
            "_model_module_version": "1.2.0",
            "_model_name": "LayoutModel",
            "_view_count": null,
            "_view_module": "@jupyter-widgets/base",
            "_view_module_version": "1.2.0",
            "_view_name": "LayoutView",
            "align_content": null,
            "align_items": null,
            "align_self": null,
            "border": null,
            "bottom": null,
            "display": null,
            "flex": null,
            "flex_flow": null,
            "grid_area": null,
            "grid_auto_columns": null,
            "grid_auto_flow": null,
            "grid_auto_rows": null,
            "grid_column": null,
            "grid_gap": null,
            "grid_row": null,
            "grid_template_areas": null,
            "grid_template_columns": null,
            "grid_template_rows": null,
            "height": null,
            "justify_content": null,
            "justify_items": null,
            "left": null,
            "margin": null,
            "max_height": null,
            "max_width": null,
            "min_height": null,
            "min_width": null,
            "object_fit": null,
            "object_position": null,
            "order": null,
            "overflow": null,
            "overflow_x": null,
            "overflow_y": null,
            "padding": null,
            "right": null,
            "top": null,
            "visibility": null,
            "width": null
          }
        },
        "c5905c0353b3442c8157ebd4e1a28ea3": {
          "model_module": "@jupyter-widgets/controls",
          "model_name": "DescriptionStyleModel",
          "model_module_version": "1.5.0",
          "state": {
            "_model_module": "@jupyter-widgets/controls",
            "_model_module_version": "1.5.0",
            "_model_name": "DescriptionStyleModel",
            "_view_count": null,
            "_view_module": "@jupyter-widgets/base",
            "_view_module_version": "1.2.0",
            "_view_name": "StyleView",
            "description_width": ""
          }
        },
        "1b3e8aad5b584c7389f2f55c8d2c38dd": {
          "model_module": "@jupyter-widgets/base",
          "model_name": "LayoutModel",
          "model_module_version": "1.2.0",
          "state": {
            "_model_module": "@jupyter-widgets/base",
            "_model_module_version": "1.2.0",
            "_model_name": "LayoutModel",
            "_view_count": null,
            "_view_module": "@jupyter-widgets/base",
            "_view_module_version": "1.2.0",
            "_view_name": "LayoutView",
            "align_content": null,
            "align_items": null,
            "align_self": null,
            "border": null,
            "bottom": null,
            "display": null,
            "flex": null,
            "flex_flow": null,
            "grid_area": null,
            "grid_auto_columns": null,
            "grid_auto_flow": null,
            "grid_auto_rows": null,
            "grid_column": null,
            "grid_gap": null,
            "grid_row": null,
            "grid_template_areas": null,
            "grid_template_columns": null,
            "grid_template_rows": null,
            "height": null,
            "justify_content": null,
            "justify_items": null,
            "left": null,
            "margin": null,
            "max_height": null,
            "max_width": null,
            "min_height": null,
            "min_width": null,
            "object_fit": null,
            "object_position": null,
            "order": null,
            "overflow": null,
            "overflow_x": null,
            "overflow_y": null,
            "padding": null,
            "right": null,
            "top": null,
            "visibility": null,
            "width": null
          }
        },
        "ec27497dc7e9477c82f08659f58cb0e0": {
          "model_module": "@jupyter-widgets/controls",
          "model_name": "ProgressStyleModel",
          "model_module_version": "1.5.0",
          "state": {
            "_model_module": "@jupyter-widgets/controls",
            "_model_module_version": "1.5.0",
            "_model_name": "ProgressStyleModel",
            "_view_count": null,
            "_view_module": "@jupyter-widgets/base",
            "_view_module_version": "1.2.0",
            "_view_name": "StyleView",
            "bar_color": null,
            "description_width": ""
          }
        },
        "75d525638b51456f8dc1cb8be2cfddcc": {
          "model_module": "@jupyter-widgets/base",
          "model_name": "LayoutModel",
          "model_module_version": "1.2.0",
          "state": {
            "_model_module": "@jupyter-widgets/base",
            "_model_module_version": "1.2.0",
            "_model_name": "LayoutModel",
            "_view_count": null,
            "_view_module": "@jupyter-widgets/base",
            "_view_module_version": "1.2.0",
            "_view_name": "LayoutView",
            "align_content": null,
            "align_items": null,
            "align_self": null,
            "border": null,
            "bottom": null,
            "display": null,
            "flex": null,
            "flex_flow": null,
            "grid_area": null,
            "grid_auto_columns": null,
            "grid_auto_flow": null,
            "grid_auto_rows": null,
            "grid_column": null,
            "grid_gap": null,
            "grid_row": null,
            "grid_template_areas": null,
            "grid_template_columns": null,
            "grid_template_rows": null,
            "height": null,
            "justify_content": null,
            "justify_items": null,
            "left": null,
            "margin": null,
            "max_height": null,
            "max_width": null,
            "min_height": null,
            "min_width": null,
            "object_fit": null,
            "object_position": null,
            "order": null,
            "overflow": null,
            "overflow_x": null,
            "overflow_y": null,
            "padding": null,
            "right": null,
            "top": null,
            "visibility": null,
            "width": null
          }
        },
        "7eb01ae734bd4be09177771bf7df68e6": {
          "model_module": "@jupyter-widgets/controls",
          "model_name": "DescriptionStyleModel",
          "model_module_version": "1.5.0",
          "state": {
            "_model_module": "@jupyter-widgets/controls",
            "_model_module_version": "1.5.0",
            "_model_name": "DescriptionStyleModel",
            "_view_count": null,
            "_view_module": "@jupyter-widgets/base",
            "_view_module_version": "1.2.0",
            "_view_name": "StyleView",
            "description_width": ""
          }
        },
        "1a34c9ac516c4aca8a08c44003e3d165": {
          "model_module": "@jupyter-widgets/controls",
          "model_name": "HBoxModel",
          "model_module_version": "1.5.0",
          "state": {
            "_dom_classes": [],
            "_model_module": "@jupyter-widgets/controls",
            "_model_module_version": "1.5.0",
            "_model_name": "HBoxModel",
            "_view_count": null,
            "_view_module": "@jupyter-widgets/controls",
            "_view_module_version": "1.5.0",
            "_view_name": "HBoxView",
            "box_style": "",
            "children": [
              "IPY_MODEL_4d866b2899dc4aa6801a6e819dca116c",
              "IPY_MODEL_541fb12d6a0a47d3aa2a0253f62bb64b",
              "IPY_MODEL_ec5c890b658a4535ad550d888c4e0974"
            ],
            "layout": "IPY_MODEL_05e55d81ffc8431bbb2d24648cdda401"
          }
        },
        "4d866b2899dc4aa6801a6e819dca116c": {
          "model_module": "@jupyter-widgets/controls",
          "model_name": "HTMLModel",
          "model_module_version": "1.5.0",
          "state": {
            "_dom_classes": [],
            "_model_module": "@jupyter-widgets/controls",
            "_model_module_version": "1.5.0",
            "_model_name": "HTMLModel",
            "_view_count": null,
            "_view_module": "@jupyter-widgets/controls",
            "_view_module_version": "1.5.0",
            "_view_name": "HTMLView",
            "description": "",
            "description_tooltip": null,
            "layout": "IPY_MODEL_ac9a5afbebdf42c0b00a56f90ae0c417",
            "placeholder": "​",
            "style": "IPY_MODEL_94ec5266cdba4c258e295b54d5f072c8",
            "value": "vocab.txt: 100%"
          }
        },
        "541fb12d6a0a47d3aa2a0253f62bb64b": {
          "model_module": "@jupyter-widgets/controls",
          "model_name": "FloatProgressModel",
          "model_module_version": "1.5.0",
          "state": {
            "_dom_classes": [],
            "_model_module": "@jupyter-widgets/controls",
            "_model_module_version": "1.5.0",
            "_model_name": "FloatProgressModel",
            "_view_count": null,
            "_view_module": "@jupyter-widgets/controls",
            "_view_module_version": "1.5.0",
            "_view_name": "ProgressView",
            "bar_style": "success",
            "description": "",
            "description_tooltip": null,
            "layout": "IPY_MODEL_511abaaaaa664800b4aa30de8e2547fc",
            "max": 231508,
            "min": 0,
            "orientation": "horizontal",
            "style": "IPY_MODEL_0121af03fba9481ea7ad63c72d394af0",
            "value": 231508
          }
        },
        "ec5c890b658a4535ad550d888c4e0974": {
          "model_module": "@jupyter-widgets/controls",
          "model_name": "HTMLModel",
          "model_module_version": "1.5.0",
          "state": {
            "_dom_classes": [],
            "_model_module": "@jupyter-widgets/controls",
            "_model_module_version": "1.5.0",
            "_model_name": "HTMLModel",
            "_view_count": null,
            "_view_module": "@jupyter-widgets/controls",
            "_view_module_version": "1.5.0",
            "_view_name": "HTMLView",
            "description": "",
            "description_tooltip": null,
            "layout": "IPY_MODEL_3e1f4a4f8e9c4493afbc880ae61cb530",
            "placeholder": "​",
            "style": "IPY_MODEL_27584d642033458b80cb37b29255e3c1",
            "value": " 232k/232k [00:00&lt;00:00, 2.34MB/s]"
          }
        },
        "05e55d81ffc8431bbb2d24648cdda401": {
          "model_module": "@jupyter-widgets/base",
          "model_name": "LayoutModel",
          "model_module_version": "1.2.0",
          "state": {
            "_model_module": "@jupyter-widgets/base",
            "_model_module_version": "1.2.0",
            "_model_name": "LayoutModel",
            "_view_count": null,
            "_view_module": "@jupyter-widgets/base",
            "_view_module_version": "1.2.0",
            "_view_name": "LayoutView",
            "align_content": null,
            "align_items": null,
            "align_self": null,
            "border": null,
            "bottom": null,
            "display": null,
            "flex": null,
            "flex_flow": null,
            "grid_area": null,
            "grid_auto_columns": null,
            "grid_auto_flow": null,
            "grid_auto_rows": null,
            "grid_column": null,
            "grid_gap": null,
            "grid_row": null,
            "grid_template_areas": null,
            "grid_template_columns": null,
            "grid_template_rows": null,
            "height": null,
            "justify_content": null,
            "justify_items": null,
            "left": null,
            "margin": null,
            "max_height": null,
            "max_width": null,
            "min_height": null,
            "min_width": null,
            "object_fit": null,
            "object_position": null,
            "order": null,
            "overflow": null,
            "overflow_x": null,
            "overflow_y": null,
            "padding": null,
            "right": null,
            "top": null,
            "visibility": null,
            "width": null
          }
        },
        "ac9a5afbebdf42c0b00a56f90ae0c417": {
          "model_module": "@jupyter-widgets/base",
          "model_name": "LayoutModel",
          "model_module_version": "1.2.0",
          "state": {
            "_model_module": "@jupyter-widgets/base",
            "_model_module_version": "1.2.0",
            "_model_name": "LayoutModel",
            "_view_count": null,
            "_view_module": "@jupyter-widgets/base",
            "_view_module_version": "1.2.0",
            "_view_name": "LayoutView",
            "align_content": null,
            "align_items": null,
            "align_self": null,
            "border": null,
            "bottom": null,
            "display": null,
            "flex": null,
            "flex_flow": null,
            "grid_area": null,
            "grid_auto_columns": null,
            "grid_auto_flow": null,
            "grid_auto_rows": null,
            "grid_column": null,
            "grid_gap": null,
            "grid_row": null,
            "grid_template_areas": null,
            "grid_template_columns": null,
            "grid_template_rows": null,
            "height": null,
            "justify_content": null,
            "justify_items": null,
            "left": null,
            "margin": null,
            "max_height": null,
            "max_width": null,
            "min_height": null,
            "min_width": null,
            "object_fit": null,
            "object_position": null,
            "order": null,
            "overflow": null,
            "overflow_x": null,
            "overflow_y": null,
            "padding": null,
            "right": null,
            "top": null,
            "visibility": null,
            "width": null
          }
        },
        "94ec5266cdba4c258e295b54d5f072c8": {
          "model_module": "@jupyter-widgets/controls",
          "model_name": "DescriptionStyleModel",
          "model_module_version": "1.5.0",
          "state": {
            "_model_module": "@jupyter-widgets/controls",
            "_model_module_version": "1.5.0",
            "_model_name": "DescriptionStyleModel",
            "_view_count": null,
            "_view_module": "@jupyter-widgets/base",
            "_view_module_version": "1.2.0",
            "_view_name": "StyleView",
            "description_width": ""
          }
        },
        "511abaaaaa664800b4aa30de8e2547fc": {
          "model_module": "@jupyter-widgets/base",
          "model_name": "LayoutModel",
          "model_module_version": "1.2.0",
          "state": {
            "_model_module": "@jupyter-widgets/base",
            "_model_module_version": "1.2.0",
            "_model_name": "LayoutModel",
            "_view_count": null,
            "_view_module": "@jupyter-widgets/base",
            "_view_module_version": "1.2.0",
            "_view_name": "LayoutView",
            "align_content": null,
            "align_items": null,
            "align_self": null,
            "border": null,
            "bottom": null,
            "display": null,
            "flex": null,
            "flex_flow": null,
            "grid_area": null,
            "grid_auto_columns": null,
            "grid_auto_flow": null,
            "grid_auto_rows": null,
            "grid_column": null,
            "grid_gap": null,
            "grid_row": null,
            "grid_template_areas": null,
            "grid_template_columns": null,
            "grid_template_rows": null,
            "height": null,
            "justify_content": null,
            "justify_items": null,
            "left": null,
            "margin": null,
            "max_height": null,
            "max_width": null,
            "min_height": null,
            "min_width": null,
            "object_fit": null,
            "object_position": null,
            "order": null,
            "overflow": null,
            "overflow_x": null,
            "overflow_y": null,
            "padding": null,
            "right": null,
            "top": null,
            "visibility": null,
            "width": null
          }
        },
        "0121af03fba9481ea7ad63c72d394af0": {
          "model_module": "@jupyter-widgets/controls",
          "model_name": "ProgressStyleModel",
          "model_module_version": "1.5.0",
          "state": {
            "_model_module": "@jupyter-widgets/controls",
            "_model_module_version": "1.5.0",
            "_model_name": "ProgressStyleModel",
            "_view_count": null,
            "_view_module": "@jupyter-widgets/base",
            "_view_module_version": "1.2.0",
            "_view_name": "StyleView",
            "bar_color": null,
            "description_width": ""
          }
        },
        "3e1f4a4f8e9c4493afbc880ae61cb530": {
          "model_module": "@jupyter-widgets/base",
          "model_name": "LayoutModel",
          "model_module_version": "1.2.0",
          "state": {
            "_model_module": "@jupyter-widgets/base",
            "_model_module_version": "1.2.0",
            "_model_name": "LayoutModel",
            "_view_count": null,
            "_view_module": "@jupyter-widgets/base",
            "_view_module_version": "1.2.0",
            "_view_name": "LayoutView",
            "align_content": null,
            "align_items": null,
            "align_self": null,
            "border": null,
            "bottom": null,
            "display": null,
            "flex": null,
            "flex_flow": null,
            "grid_area": null,
            "grid_auto_columns": null,
            "grid_auto_flow": null,
            "grid_auto_rows": null,
            "grid_column": null,
            "grid_gap": null,
            "grid_row": null,
            "grid_template_areas": null,
            "grid_template_columns": null,
            "grid_template_rows": null,
            "height": null,
            "justify_content": null,
            "justify_items": null,
            "left": null,
            "margin": null,
            "max_height": null,
            "max_width": null,
            "min_height": null,
            "min_width": null,
            "object_fit": null,
            "object_position": null,
            "order": null,
            "overflow": null,
            "overflow_x": null,
            "overflow_y": null,
            "padding": null,
            "right": null,
            "top": null,
            "visibility": null,
            "width": null
          }
        },
        "27584d642033458b80cb37b29255e3c1": {
          "model_module": "@jupyter-widgets/controls",
          "model_name": "DescriptionStyleModel",
          "model_module_version": "1.5.0",
          "state": {
            "_model_module": "@jupyter-widgets/controls",
            "_model_module_version": "1.5.0",
            "_model_name": "DescriptionStyleModel",
            "_view_count": null,
            "_view_module": "@jupyter-widgets/base",
            "_view_module_version": "1.2.0",
            "_view_name": "StyleView",
            "description_width": ""
          }
        },
        "a74284e26bae416893bc84078de63b78": {
          "model_module": "@jupyter-widgets/controls",
          "model_name": "HBoxModel",
          "model_module_version": "1.5.0",
          "state": {
            "_dom_classes": [],
            "_model_module": "@jupyter-widgets/controls",
            "_model_module_version": "1.5.0",
            "_model_name": "HBoxModel",
            "_view_count": null,
            "_view_module": "@jupyter-widgets/controls",
            "_view_module_version": "1.5.0",
            "_view_name": "HBoxView",
            "box_style": "",
            "children": [
              "IPY_MODEL_c9152e1bb11f46d18961e24b045b59a0",
              "IPY_MODEL_e8e15afeb9ae438183e78cf7397f5169",
              "IPY_MODEL_5fb3e23f76a64531a5eead21823768ca"
            ],
            "layout": "IPY_MODEL_ed54dcc5d01a45aaa5657f03cb201c5c"
          }
        },
        "c9152e1bb11f46d18961e24b045b59a0": {
          "model_module": "@jupyter-widgets/controls",
          "model_name": "HTMLModel",
          "model_module_version": "1.5.0",
          "state": {
            "_dom_classes": [],
            "_model_module": "@jupyter-widgets/controls",
            "_model_module_version": "1.5.0",
            "_model_name": "HTMLModel",
            "_view_count": null,
            "_view_module": "@jupyter-widgets/controls",
            "_view_module_version": "1.5.0",
            "_view_name": "HTMLView",
            "description": "",
            "description_tooltip": null,
            "layout": "IPY_MODEL_e33187ceec4848418187ce0bf3c6db97",
            "placeholder": "​",
            "style": "IPY_MODEL_72fa9137362b400aa105d39f3e870bf1",
            "value": "tokenizer.json: 100%"
          }
        },
        "e8e15afeb9ae438183e78cf7397f5169": {
          "model_module": "@jupyter-widgets/controls",
          "model_name": "FloatProgressModel",
          "model_module_version": "1.5.0",
          "state": {
            "_dom_classes": [],
            "_model_module": "@jupyter-widgets/controls",
            "_model_module_version": "1.5.0",
            "_model_name": "FloatProgressModel",
            "_view_count": null,
            "_view_module": "@jupyter-widgets/controls",
            "_view_module_version": "1.5.0",
            "_view_name": "ProgressView",
            "bar_style": "success",
            "description": "",
            "description_tooltip": null,
            "layout": "IPY_MODEL_8a9833199c894fb8b0b5c643db6c5932",
            "max": 466062,
            "min": 0,
            "orientation": "horizontal",
            "style": "IPY_MODEL_791fc3380af14e09875c55289fbbda65",
            "value": 466062
          }
        },
        "5fb3e23f76a64531a5eead21823768ca": {
          "model_module": "@jupyter-widgets/controls",
          "model_name": "HTMLModel",
          "model_module_version": "1.5.0",
          "state": {
            "_dom_classes": [],
            "_model_module": "@jupyter-widgets/controls",
            "_model_module_version": "1.5.0",
            "_model_name": "HTMLModel",
            "_view_count": null,
            "_view_module": "@jupyter-widgets/controls",
            "_view_module_version": "1.5.0",
            "_view_name": "HTMLView",
            "description": "",
            "description_tooltip": null,
            "layout": "IPY_MODEL_30bad396bd874e07903f691dd552d851",
            "placeholder": "​",
            "style": "IPY_MODEL_2b8a71732c70404885145abe0790c925",
            "value": " 466k/466k [00:00&lt;00:00, 4.46MB/s]"
          }
        },
        "ed54dcc5d01a45aaa5657f03cb201c5c": {
          "model_module": "@jupyter-widgets/base",
          "model_name": "LayoutModel",
          "model_module_version": "1.2.0",
          "state": {
            "_model_module": "@jupyter-widgets/base",
            "_model_module_version": "1.2.0",
            "_model_name": "LayoutModel",
            "_view_count": null,
            "_view_module": "@jupyter-widgets/base",
            "_view_module_version": "1.2.0",
            "_view_name": "LayoutView",
            "align_content": null,
            "align_items": null,
            "align_self": null,
            "border": null,
            "bottom": null,
            "display": null,
            "flex": null,
            "flex_flow": null,
            "grid_area": null,
            "grid_auto_columns": null,
            "grid_auto_flow": null,
            "grid_auto_rows": null,
            "grid_column": null,
            "grid_gap": null,
            "grid_row": null,
            "grid_template_areas": null,
            "grid_template_columns": null,
            "grid_template_rows": null,
            "height": null,
            "justify_content": null,
            "justify_items": null,
            "left": null,
            "margin": null,
            "max_height": null,
            "max_width": null,
            "min_height": null,
            "min_width": null,
            "object_fit": null,
            "object_position": null,
            "order": null,
            "overflow": null,
            "overflow_x": null,
            "overflow_y": null,
            "padding": null,
            "right": null,
            "top": null,
            "visibility": null,
            "width": null
          }
        },
        "e33187ceec4848418187ce0bf3c6db97": {
          "model_module": "@jupyter-widgets/base",
          "model_name": "LayoutModel",
          "model_module_version": "1.2.0",
          "state": {
            "_model_module": "@jupyter-widgets/base",
            "_model_module_version": "1.2.0",
            "_model_name": "LayoutModel",
            "_view_count": null,
            "_view_module": "@jupyter-widgets/base",
            "_view_module_version": "1.2.0",
            "_view_name": "LayoutView",
            "align_content": null,
            "align_items": null,
            "align_self": null,
            "border": null,
            "bottom": null,
            "display": null,
            "flex": null,
            "flex_flow": null,
            "grid_area": null,
            "grid_auto_columns": null,
            "grid_auto_flow": null,
            "grid_auto_rows": null,
            "grid_column": null,
            "grid_gap": null,
            "grid_row": null,
            "grid_template_areas": null,
            "grid_template_columns": null,
            "grid_template_rows": null,
            "height": null,
            "justify_content": null,
            "justify_items": null,
            "left": null,
            "margin": null,
            "max_height": null,
            "max_width": null,
            "min_height": null,
            "min_width": null,
            "object_fit": null,
            "object_position": null,
            "order": null,
            "overflow": null,
            "overflow_x": null,
            "overflow_y": null,
            "padding": null,
            "right": null,
            "top": null,
            "visibility": null,
            "width": null
          }
        },
        "72fa9137362b400aa105d39f3e870bf1": {
          "model_module": "@jupyter-widgets/controls",
          "model_name": "DescriptionStyleModel",
          "model_module_version": "1.5.0",
          "state": {
            "_model_module": "@jupyter-widgets/controls",
            "_model_module_version": "1.5.0",
            "_model_name": "DescriptionStyleModel",
            "_view_count": null,
            "_view_module": "@jupyter-widgets/base",
            "_view_module_version": "1.2.0",
            "_view_name": "StyleView",
            "description_width": ""
          }
        },
        "8a9833199c894fb8b0b5c643db6c5932": {
          "model_module": "@jupyter-widgets/base",
          "model_name": "LayoutModel",
          "model_module_version": "1.2.0",
          "state": {
            "_model_module": "@jupyter-widgets/base",
            "_model_module_version": "1.2.0",
            "_model_name": "LayoutModel",
            "_view_count": null,
            "_view_module": "@jupyter-widgets/base",
            "_view_module_version": "1.2.0",
            "_view_name": "LayoutView",
            "align_content": null,
            "align_items": null,
            "align_self": null,
            "border": null,
            "bottom": null,
            "display": null,
            "flex": null,
            "flex_flow": null,
            "grid_area": null,
            "grid_auto_columns": null,
            "grid_auto_flow": null,
            "grid_auto_rows": null,
            "grid_column": null,
            "grid_gap": null,
            "grid_row": null,
            "grid_template_areas": null,
            "grid_template_columns": null,
            "grid_template_rows": null,
            "height": null,
            "justify_content": null,
            "justify_items": null,
            "left": null,
            "margin": null,
            "max_height": null,
            "max_width": null,
            "min_height": null,
            "min_width": null,
            "object_fit": null,
            "object_position": null,
            "order": null,
            "overflow": null,
            "overflow_x": null,
            "overflow_y": null,
            "padding": null,
            "right": null,
            "top": null,
            "visibility": null,
            "width": null
          }
        },
        "791fc3380af14e09875c55289fbbda65": {
          "model_module": "@jupyter-widgets/controls",
          "model_name": "ProgressStyleModel",
          "model_module_version": "1.5.0",
          "state": {
            "_model_module": "@jupyter-widgets/controls",
            "_model_module_version": "1.5.0",
            "_model_name": "ProgressStyleModel",
            "_view_count": null,
            "_view_module": "@jupyter-widgets/base",
            "_view_module_version": "1.2.0",
            "_view_name": "StyleView",
            "bar_color": null,
            "description_width": ""
          }
        },
        "30bad396bd874e07903f691dd552d851": {
          "model_module": "@jupyter-widgets/base",
          "model_name": "LayoutModel",
          "model_module_version": "1.2.0",
          "state": {
            "_model_module": "@jupyter-widgets/base",
            "_model_module_version": "1.2.0",
            "_model_name": "LayoutModel",
            "_view_count": null,
            "_view_module": "@jupyter-widgets/base",
            "_view_module_version": "1.2.0",
            "_view_name": "LayoutView",
            "align_content": null,
            "align_items": null,
            "align_self": null,
            "border": null,
            "bottom": null,
            "display": null,
            "flex": null,
            "flex_flow": null,
            "grid_area": null,
            "grid_auto_columns": null,
            "grid_auto_flow": null,
            "grid_auto_rows": null,
            "grid_column": null,
            "grid_gap": null,
            "grid_row": null,
            "grid_template_areas": null,
            "grid_template_columns": null,
            "grid_template_rows": null,
            "height": null,
            "justify_content": null,
            "justify_items": null,
            "left": null,
            "margin": null,
            "max_height": null,
            "max_width": null,
            "min_height": null,
            "min_width": null,
            "object_fit": null,
            "object_position": null,
            "order": null,
            "overflow": null,
            "overflow_x": null,
            "overflow_y": null,
            "padding": null,
            "right": null,
            "top": null,
            "visibility": null,
            "width": null
          }
        },
        "2b8a71732c70404885145abe0790c925": {
          "model_module": "@jupyter-widgets/controls",
          "model_name": "DescriptionStyleModel",
          "model_module_version": "1.5.0",
          "state": {
            "_model_module": "@jupyter-widgets/controls",
            "_model_module_version": "1.5.0",
            "_model_name": "DescriptionStyleModel",
            "_view_count": null,
            "_view_module": "@jupyter-widgets/base",
            "_view_module_version": "1.2.0",
            "_view_name": "StyleView",
            "description_width": ""
          }
        }
      }
    }
  },
  "cells": [
    {
      "cell_type": "markdown",
      "metadata": {
        "id": "view-in-github",
        "colab_type": "text"
      },
      "source": [
        "<a href=\"https://colab.research.google.com/github/rdsmaia/dim0494/blob/main/myLLM.ipynb\" target=\"_parent\"><img src=\"https://colab.research.google.com/assets/colab-badge.svg\" alt=\"Open In Colab\"/></a>"
      ]
    },
    {
      "cell_type": "code",
      "execution_count": null,
      "metadata": {
        "colab": {
          "base_uri": "https://localhost:8080/"
        },
        "id": "kDloYIqV7qfo",
        "outputId": "10248d4b-7046-432b-ceb6-6a9a769467cc"
      },
      "outputs": [
        {
          "output_type": "stream",
          "name": "stdout",
          "text": [
            "Requirement already satisfied: transformers in /usr/local/lib/python3.10/dist-packages (4.47.1)\n",
            "Requirement already satisfied: filelock in /usr/local/lib/python3.10/dist-packages (from transformers) (3.16.1)\n",
            "Requirement already satisfied: huggingface-hub<1.0,>=0.24.0 in /usr/local/lib/python3.10/dist-packages (from transformers) (0.27.1)\n",
            "Requirement already satisfied: numpy>=1.17 in /usr/local/lib/python3.10/dist-packages (from transformers) (1.26.4)\n",
            "Requirement already satisfied: packaging>=20.0 in /usr/local/lib/python3.10/dist-packages (from transformers) (24.2)\n",
            "Requirement already satisfied: pyyaml>=5.1 in /usr/local/lib/python3.10/dist-packages (from transformers) (6.0.2)\n",
            "Requirement already satisfied: regex!=2019.12.17 in /usr/local/lib/python3.10/dist-packages (from transformers) (2024.11.6)\n",
            "Requirement already satisfied: requests in /usr/local/lib/python3.10/dist-packages (from transformers) (2.32.3)\n",
            "Requirement already satisfied: tokenizers<0.22,>=0.21 in /usr/local/lib/python3.10/dist-packages (from transformers) (0.21.0)\n",
            "Requirement already satisfied: safetensors>=0.4.1 in /usr/local/lib/python3.10/dist-packages (from transformers) (0.5.1)\n",
            "Requirement already satisfied: tqdm>=4.27 in /usr/local/lib/python3.10/dist-packages (from transformers) (4.67.1)\n",
            "Requirement already satisfied: fsspec>=2023.5.0 in /usr/local/lib/python3.10/dist-packages (from huggingface-hub<1.0,>=0.24.0->transformers) (2024.10.0)\n",
            "Requirement already satisfied: typing-extensions>=3.7.4.3 in /usr/local/lib/python3.10/dist-packages (from huggingface-hub<1.0,>=0.24.0->transformers) (4.12.2)\n",
            "Requirement already satisfied: charset-normalizer<4,>=2 in /usr/local/lib/python3.10/dist-packages (from requests->transformers) (3.4.1)\n",
            "Requirement already satisfied: idna<4,>=2.5 in /usr/local/lib/python3.10/dist-packages (from requests->transformers) (3.10)\n",
            "Requirement already satisfied: urllib3<3,>=1.21.1 in /usr/local/lib/python3.10/dist-packages (from requests->transformers) (2.3.0)\n",
            "Requirement already satisfied: certifi>=2017.4.17 in /usr/local/lib/python3.10/dist-packages (from requests->transformers) (2024.12.14)\n"
          ]
        }
      ],
      "source": [
        "!pip install transformers"
      ]
    },
    {
      "cell_type": "code",
      "source": [
        "import torch\n",
        "import torch.nn as nn\n",
        "import torch.nn.functional as F\n",
        "from transformers import AutoTokenizer, AutoConfig\n",
        "import math"
      ],
      "metadata": {
        "id": "dTk427Fm78Yg"
      },
      "execution_count": null,
      "outputs": []
    },
    {
      "cell_type": "code",
      "source": [
        "model_chkpt = 'bert-base-uncased'\n",
        "tokenizer = AutoTokenizer.from_pretrained(model_chkpt)\n",
        "config = AutoConfig.from_pretrained(model_chkpt)"
      ],
      "metadata": {
        "colab": {
          "base_uri": "https://localhost:8080/",
          "height": 269,
          "referenced_widgets": [
            "fd3d1876b91a4acda02f31d96e17cde1",
            "27028e666cf94274a3cdff6a7eb88145",
            "a61f859b4eaf4122af0166749585de8f",
            "27c7742a36234f01bd617438bbd61348",
            "c09e0870a949409b9e6770c4bdc72486",
            "411c69b5966841bc91c180b6ed74b795",
            "ec52de1e47b64aca953cd09bf240540a",
            "688972de5cbd41d19c31b14ea0173936",
            "689ba485432d4330b4b873fa62b38c4c",
            "bc74b824ef854c56a2ed13e85640f5a9",
            "250532d448dd497d9aec6c5e2529210d",
            "53d6677330b1431b8b7a634a74465c7f",
            "09bb083c9b8b4b22b90d6841a2545a77",
            "40061eb2cb744428b63717abb4cd6f9c",
            "81b13214d1d54b8083cb0ad18697280a",
            "3836010be61345c099a9986a6ac7e1a0",
            "f5cfaf9aed6040ad9063e89a06cd753c",
            "c5905c0353b3442c8157ebd4e1a28ea3",
            "1b3e8aad5b584c7389f2f55c8d2c38dd",
            "ec27497dc7e9477c82f08659f58cb0e0",
            "75d525638b51456f8dc1cb8be2cfddcc",
            "7eb01ae734bd4be09177771bf7df68e6",
            "1a34c9ac516c4aca8a08c44003e3d165",
            "4d866b2899dc4aa6801a6e819dca116c",
            "541fb12d6a0a47d3aa2a0253f62bb64b",
            "ec5c890b658a4535ad550d888c4e0974",
            "05e55d81ffc8431bbb2d24648cdda401",
            "ac9a5afbebdf42c0b00a56f90ae0c417",
            "94ec5266cdba4c258e295b54d5f072c8",
            "511abaaaaa664800b4aa30de8e2547fc",
            "0121af03fba9481ea7ad63c72d394af0",
            "3e1f4a4f8e9c4493afbc880ae61cb530",
            "27584d642033458b80cb37b29255e3c1",
            "a74284e26bae416893bc84078de63b78",
            "c9152e1bb11f46d18961e24b045b59a0",
            "e8e15afeb9ae438183e78cf7397f5169",
            "5fb3e23f76a64531a5eead21823768ca",
            "ed54dcc5d01a45aaa5657f03cb201c5c",
            "e33187ceec4848418187ce0bf3c6db97",
            "72fa9137362b400aa105d39f3e870bf1",
            "8a9833199c894fb8b0b5c643db6c5932",
            "791fc3380af14e09875c55289fbbda65",
            "30bad396bd874e07903f691dd552d851",
            "2b8a71732c70404885145abe0790c925"
          ]
        },
        "id": "Ty-7oKEi8aCf",
        "outputId": "923d3139-c440-4835-a70d-913620417f65"
      },
      "execution_count": null,
      "outputs": [
        {
          "output_type": "stream",
          "name": "stderr",
          "text": [
            "/usr/local/lib/python3.10/dist-packages/huggingface_hub/utils/_auth.py:94: UserWarning: \n",
            "The secret `HF_TOKEN` does not exist in your Colab secrets.\n",
            "To authenticate with the Hugging Face Hub, create a token in your settings tab (https://huggingface.co/settings/tokens), set it as secret in your Google Colab and restart your session.\n",
            "You will be able to reuse this secret in all of your notebooks.\n",
            "Please note that authentication is recommended but still optional to access public models or datasets.\n",
            "  warnings.warn(\n"
          ]
        },
        {
          "output_type": "display_data",
          "data": {
            "text/plain": [
              "tokenizer_config.json:   0%|          | 0.00/48.0 [00:00<?, ?B/s]"
            ],
            "application/vnd.jupyter.widget-view+json": {
              "version_major": 2,
              "version_minor": 0,
              "model_id": "fd3d1876b91a4acda02f31d96e17cde1"
            }
          },
          "metadata": {}
        },
        {
          "output_type": "display_data",
          "data": {
            "text/plain": [
              "config.json:   0%|          | 0.00/570 [00:00<?, ?B/s]"
            ],
            "application/vnd.jupyter.widget-view+json": {
              "version_major": 2,
              "version_minor": 0,
              "model_id": "53d6677330b1431b8b7a634a74465c7f"
            }
          },
          "metadata": {}
        },
        {
          "output_type": "display_data",
          "data": {
            "text/plain": [
              "vocab.txt:   0%|          | 0.00/232k [00:00<?, ?B/s]"
            ],
            "application/vnd.jupyter.widget-view+json": {
              "version_major": 2,
              "version_minor": 0,
              "model_id": "1a34c9ac516c4aca8a08c44003e3d165"
            }
          },
          "metadata": {}
        },
        {
          "output_type": "display_data",
          "data": {
            "text/plain": [
              "tokenizer.json:   0%|          | 0.00/466k [00:00<?, ?B/s]"
            ],
            "application/vnd.jupyter.widget-view+json": {
              "version_major": 2,
              "version_minor": 0,
              "model_id": "a74284e26bae416893bc84078de63b78"
            }
          },
          "metadata": {}
        }
      ]
    },
    {
      "cell_type": "code",
      "source": [
        "text = 'My life is wonderful because I get to train Deep Learning models every day.'"
      ],
      "metadata": {
        "id": "v9EH8Kpg87Uw"
      },
      "execution_count": null,
      "outputs": []
    },
    {
      "cell_type": "code",
      "source": [
        "tokens = tokenizer(text, return_tensors='pt', add_special_tokens=False)['input_ids']\n",
        "tokens"
      ],
      "metadata": {
        "colab": {
          "base_uri": "https://localhost:8080/"
        },
        "id": "K3KwLrZU9I_-",
        "outputId": "c03fda07-3adf-40ef-a9f8-33620658ee50"
      },
      "execution_count": null,
      "outputs": [
        {
          "output_type": "execute_result",
          "data": {
            "text/plain": [
              "tensor([[2026, 2166, 2003, 6919, 2138, 1045, 2131, 2000, 3345, 2784, 4083, 4275,\n",
              "         2296, 2154, 1012]])"
            ]
          },
          "metadata": {},
          "execution_count": 6
        }
      ]
    },
    {
      "cell_type": "code",
      "source": [
        "print(f'O número de tokens máximo é: {config.vocab_size}')\n",
        "print(f'A dimensão do embedding  é: D={config.hidden_size}')"
      ],
      "metadata": {
        "colab": {
          "base_uri": "https://localhost:8080/"
        },
        "id": "lOxmM6N4_IRo",
        "outputId": "740c768c-8bec-4f55-adf9-49f154187228"
      },
      "execution_count": null,
      "outputs": [
        {
          "output_type": "stream",
          "name": "stdout",
          "text": [
            "O número de tokens máximo é: 30522\n",
            "A dimensão do embedding  é: D=768\n"
          ]
        }
      ]
    },
    {
      "cell_type": "code",
      "source": [
        "embedding_layer = nn.Embedding(config.vocab_size, config.hidden_size)\n",
        "embeddings = embedding_layer(tokens)\n",
        "print(f'O formato dos tokens de entrada é: {tokens.shape}')\n",
        "print(f'O formato dos embeddings é: {embeddings.shape}')"
      ],
      "metadata": {
        "colab": {
          "base_uri": "https://localhost:8080/"
        },
        "id": "Ax_jaxHM92R3",
        "outputId": "9e13f057-c73e-4e7c-82eb-d92fc111f6c6"
      },
      "execution_count": null,
      "outputs": [
        {
          "output_type": "stream",
          "name": "stdout",
          "text": [
            "O formato dos tokens de entrada é: torch.Size([1, 15])\n",
            "O formato dos embeddings é: torch.Size([1, 15, 768])\n"
          ]
        }
      ]
    },
    {
      "cell_type": "code",
      "source": [
        "def scaled_dot_product_attention(query, key, value):\n",
        "  # número de colunas da matriz K\n",
        "  M_k = key.size(-1)\n",
        "  # determina as energias\n",
        "  scores = torch.matmul(query, key.transpose(-2, -1)) / math.sqrt(M_k)\n",
        "  # determina as pesos do alinhamento\n",
        "  attention_weights = F.softmax(scores, dim=-1)\n",
        "  # multiplica pesos pela matriz V\n",
        "  return torch.matmul(attention_weights, value)\n",
        "\n",
        "class AttentionHead(nn.Module):\n",
        "  def __init__(self, embed_dim, head_dim):\n",
        "\n",
        "    super().__init__()\n",
        "    # matriz W^(Q)\n",
        "    self.q = nn.Linear(embed_dim, head_dim)\n",
        "    # matriz W^(K)\n",
        "    self.k = nn.Linear(embed_dim, head_dim)\n",
        "    # matriz W^(V)\n",
        "    self.v = nn.Linear(embed_dim, head_dim)\n",
        "\n",
        "  def forward(self, hidden_state):\n",
        "    attn_outputs = scaled_dot_product_attention(self.q(hidden_state),\n",
        "                                                self.k(hidden_state),\n",
        "                                                self.v(hidden_state))\n",
        "    return attn_outputs\n",
        "\n",
        "class MultiHeadAttention(nn.Module):\n",
        "  def __init__(self, config):\n",
        "    super().__init__()\n",
        "    # dimensão do embedding\n",
        "    embed_dim = config.hidden_size\n",
        "    # número de cabeças\n",
        "    num_heads = config.num_attention_heads\n",
        "    # dimensão de cada cabeça\n",
        "    head_dim = embed_dim // num_heads\n",
        "    self.heads = nn.ModuleList(\n",
        "        [AttentionHead(embed_dim, head_dim) for _ in range(num_heads)]\n",
        "    )\n",
        "    self.output_linear = nn.Linear(embed_dim, embed_dim)\n",
        "\n",
        "  def forward(self, hidden_state):\n",
        "    x = torch.cat([h(hidden_state) for h in self.heads], dim=-1)\n",
        "    x = self.output_linear(x)\n",
        "    return x\n"
      ],
      "metadata": {
        "id": "kZCneaVyAz3-"
      },
      "execution_count": null,
      "outputs": []
    },
    {
      "cell_type": "code",
      "source": [
        "multihead_attn = MultiHeadAttention(config)\n",
        "attn_output = multihead_attn(embeddings)\n",
        "print(f'O formato da saída da camada MHA é: {attn_output.shape}')"
      ],
      "metadata": {
        "colab": {
          "base_uri": "https://localhost:8080/"
        },
        "id": "gtwaU5HVFlgn",
        "outputId": "8fd732d1-38a6-4f09-b425-0c1fd47aa360"
      },
      "execution_count": null,
      "outputs": [
        {
          "output_type": "stream",
          "name": "stdout",
          "text": [
            "O formato da saída da camada MHA é: torch.Size([1, 15, 768])\n"
          ]
        }
      ]
    },
    {
      "cell_type": "code",
      "source": [
        "class FeedForward(nn.Module):\n",
        "  def __init__(self, config):\n",
        "    super().__init__()\n",
        "    # camada 1\n",
        "    self.linear_1 = nn.Linear(config.hidden_size, config.intermediate_size)\n",
        "    # camada 2\n",
        "    self.linear_2 = nn.Linear(config.intermediate_size, config.hidden_size)\n",
        "    # ativação\n",
        "    self.gelu = nn.GELU()\n",
        "    # dropout\n",
        "    self.dropout = nn.Dropout(config.hidden_dropout_prob)\n",
        "\n",
        "  def forward(self, x):\n",
        "    x = self.linear_1(x)\n",
        "    x = self.gelu(x)\n",
        "    x = self.linear_2(x)\n",
        "    x = self.dropout(x)\n",
        "    return x"
      ],
      "metadata": {
        "id": "mCnbJZTEGX5F"
      },
      "execution_count": null,
      "outputs": []
    },
    {
      "cell_type": "code",
      "source": [
        "feed_forward = FeedForward(config)\n",
        "ff_output = feed_forward(embeddings)\n",
        "print(f'O formato da saída da camada FF é: {ff_output.shape}')"
      ],
      "metadata": {
        "colab": {
          "base_uri": "https://localhost:8080/"
        },
        "id": "tlzCPS1kF6rW",
        "outputId": "e742efcc-27b7-4323-f62d-8d3f61621501"
      },
      "execution_count": null,
      "outputs": [
        {
          "output_type": "stream",
          "name": "stdout",
          "text": [
            "O formato da saída da camada FF é: torch.Size([1, 15, 768])\n"
          ]
        }
      ]
    },
    {
      "cell_type": "code",
      "source": [
        "class LLMEncoderLayer(nn.Module):\n",
        "  def __init__(self, config):\n",
        "    super().__init__()\n",
        "    # layer norm 1\n",
        "    self.layer_norm_1 = nn.LayerNorm(config.hidden_size)\n",
        "    # layer norm 2\n",
        "    self.layer_norm_2 = nn.LayerNorm(config.hidden_size)\n",
        "    # MHA\n",
        "    self.attention = MultiHeadAttention(config)\n",
        "    # rede FF\n",
        "    self.feed_forward = FeedForward(config)\n",
        "\n",
        "  def forward(self, hidden_state):\n",
        "    # passa o hidden state pela camanda de normalização\n",
        "    x = self.layer_norm_1(hidden_state)\n",
        "    # passa o resultado pelo MHA\n",
        "    multihead_attn_output = self.attention(x)\n",
        "    # soma com a própria entrada (skip connection)\n",
        "    x = x + multihead_attn_output\n",
        "    # passa resultado pela camada de normalização 2\n",
        "    x = self.layer_norm_2(x)\n",
        "    # passa resultado pela camada FF\n",
        "    ff_output = self.feed_forward(x)\n",
        "    # soma com a própria entrada (skip connection)\n",
        "    x = x + ff_output\n",
        "    return x\n"
      ],
      "metadata": {
        "id": "NFpISK5wHx0F"
      },
      "execution_count": null,
      "outputs": []
    },
    {
      "cell_type": "code",
      "source": [
        "encoder_layer = LLMEncoderLayer(config)\n",
        "encoder_output = encoder_layer(embeddings)\n",
        "print(f'O formato da saída do encoder é: {encoder_output.shape}')"
      ],
      "metadata": {
        "colab": {
          "base_uri": "https://localhost:8080/"
        },
        "id": "zk8kskRCHwWZ",
        "outputId": "03ead85f-67b9-4dc6-8282-767b9cf608cc"
      },
      "execution_count": null,
      "outputs": [
        {
          "output_type": "stream",
          "name": "stdout",
          "text": [
            "O formato da saída do encoder é: torch.Size([1, 15, 768])\n"
          ]
        }
      ]
    },
    {
      "cell_type": "code",
      "source": [
        "class Embeddings(nn.Module):\n",
        "  def __init__(self, config):\n",
        "    super().__init__()\n",
        "    # camada de embedding\n",
        "    self.word_embeddings = nn.Embedding(config.vocab_size, config.hidden_size)\n",
        "    # camada: positional embeddings\n",
        "    self.position_embeddings = nn.Embedding(config.max_position_embeddings, config.hidden_size)\n",
        "    # normalização\n",
        "    self.layer_norm = nn.LayerNorm(config.hidden_size)\n",
        "    # camada dropout\n",
        "    self.dropout = nn.Dropout(config.hidden_dropout_prob)\n",
        "\n",
        "  def forward(self, tokens):\n",
        "    # passa tokens pela camanda de embedding\n",
        "    token_embeddings = self.word_embeddings(tokens)\n",
        "    # obtém positional embeddings\n",
        "    position_ids = torch.arange(tokens.size(-1), dtype=torch.long).unsqueeze(0)\n",
        "    position_embeddings = self.position_embeddings(position_ids)\n",
        "    # soma embeddings\n",
        "    embeddings = token_embeddings + position_embeddings\n",
        "    # passa o resultado pela camada de normalização\n",
        "    embeddings = self.layer_norm(embeddings)\n",
        "    # aplica o dropout\n",
        "    embeddings = self.dropout(embeddings)\n",
        "    # retorna embeddings\n",
        "    return embeddings"
      ],
      "metadata": {
        "id": "L5JiWk2oJhGX"
      },
      "execution_count": null,
      "outputs": []
    },
    {
      "cell_type": "code",
      "source": [
        "embedding_layer = Embeddings(config)\n",
        "embeddings = embedding_layer(tokens)\n",
        "print(f'O formato dos embeddings é: {embeddings.shape}')"
      ],
      "metadata": {
        "colab": {
          "base_uri": "https://localhost:8080/"
        },
        "id": "GMZ0-nlVLpf3",
        "outputId": "e70b769e-513d-4b9e-e5a4-1537c3701980"
      },
      "execution_count": null,
      "outputs": [
        {
          "output_type": "stream",
          "name": "stdout",
          "text": [
            "O formato dos embeddings é: torch.Size([1, 15, 768])\n"
          ]
        }
      ]
    },
    {
      "cell_type": "code",
      "source": [
        "class LLMEncoder(nn.Module):\n",
        "  def __init__(self, config):\n",
        "    super().__init__()\n",
        "    # camadas embedding\n",
        "    self.embeddings = Embeddings(config)\n",
        "    # camadas de codificação (LMEncoderLayer)\n",
        "    self.layers = nn.ModuleList([LLMEncoderLayer(config) for _ in range(config.num_hidden_layers)])\n",
        "\n",
        "  def forward(self, tokens):\n",
        "    # passa tokens pela camada de embedding\n",
        "    x = self.embeddings(tokens)\n",
        "    # passa resultado pela rede de codificação\n",
        "    for layer in self.layers:\n",
        "      x = layer(x)\n",
        "    return x"
      ],
      "metadata": {
        "id": "LRJTOli1Lu4N"
      },
      "execution_count": null,
      "outputs": []
    },
    {
      "cell_type": "code",
      "source": [
        "encoder = LLMEncoder(config)\n",
        "encoder_output = encoder(tokens)\n",
        "print(f'O formato da saída do encoder é: {encoder_output.shape}')"
      ],
      "metadata": {
        "colab": {
          "base_uri": "https://localhost:8080/"
        },
        "id": "ZzwkqGB_OMlu",
        "outputId": "52096e02-5161-41e7-8872-ab9673e31b2e"
      },
      "execution_count": null,
      "outputs": [
        {
          "output_type": "stream",
          "name": "stdout",
          "text": [
            "O formato da saída do encoder é: torch.Size([1, 15, 768])\n"
          ]
        }
      ]
    },
    {
      "cell_type": "code",
      "source": [
        "def scaled_dot_product_attention(query, key, value, mask=None):\n",
        "  # número de colunas da matriz K\n",
        "  M_k = key.size(-1)\n",
        "  # determina as energias\n",
        "  scores = torch.matmul(query, key.transpose(-2, -1)) / math.sqrt(M_k)\n",
        "  # mascaramento\n",
        "  if mask is not None:\n",
        "    scores = scores.masked_fill(mask == 0, -1e9)\n",
        "  # determina as pesos do alinhamento\n",
        "  attention_weights = F.softmax(scores, dim=-1)\n",
        "  # multiplica pesos pela matriz V\n",
        "  return torch.matmul(attention_weights, value)\n",
        "\n"
      ],
      "metadata": {
        "id": "FpHsVzmePdvO"
      },
      "execution_count": null,
      "outputs": []
    },
    {
      "cell_type": "code",
      "source": [
        "scores = torch.randn(15,15)\n",
        "scores"
      ],
      "metadata": {
        "colab": {
          "base_uri": "https://localhost:8080/"
        },
        "id": "bQPFt0oyQFbA",
        "outputId": "209feb42-77c1-4c7c-879d-99d0e3c815c4"
      },
      "execution_count": null,
      "outputs": [
        {
          "output_type": "execute_result",
          "data": {
            "text/plain": [
              "tensor([[-1.4035,  0.6365,  0.9758,  0.9763, -0.6938,  1.4915,  0.4961,  0.6566,\n",
              "         -1.9132,  1.3764,  0.6862,  0.0039,  0.6198, -0.2273, -0.0610],\n",
              "        [ 1.7277,  0.4565,  0.4856, -1.2300, -0.4833, -0.3977, -0.0806,  0.7667,\n",
              "          0.9033,  0.6400,  1.3206, -1.8353, -0.7775, -1.2476,  0.5011],\n",
              "        [ 0.1205, -1.2391, -1.0687,  0.3336,  0.0411, -0.3984,  0.7619,  0.7545,\n",
              "         -0.1444,  0.7330,  0.5025,  0.0570,  1.3302,  0.9359,  0.2563],\n",
              "        [-0.6714,  0.1324,  0.6402, -1.3400, -1.8339, -0.7641, -0.5689,  1.1631,\n",
              "         -0.0100, -2.4937, -0.2972, -1.0046,  0.6738,  1.2675,  0.2121],\n",
              "        [-1.4998,  0.0148, -0.7202,  0.3628,  2.2228, -0.5227, -1.7211,  0.9764,\n",
              "          0.2194, -0.1319, -0.6975,  0.1546, -0.9419,  0.3070,  0.6917],\n",
              "        [-1.0374,  0.2795, -1.3067,  0.7809,  0.4889, -0.1647, -0.3215,  1.5168,\n",
              "         -0.6419,  2.3002, -1.1243,  0.3163,  1.9163,  1.3241, -1.9235],\n",
              "        [ 0.7315,  1.0305, -0.1359, -0.2110,  0.6916,  1.6892, -0.8992, -0.9801,\n",
              "         -1.7040,  1.0152, -0.4512, -0.9144, -0.3272,  1.0370,  1.4103],\n",
              "        [ 0.0341, -0.7279, -0.6390, -0.0583, -1.6734,  0.0136, -2.1642,  0.8704,\n",
              "         -0.2113,  0.5749,  0.1332, -0.4488, -0.2009,  0.7257,  0.2329],\n",
              "        [-1.0897,  1.1946, -1.0029, -0.8796, -0.5522, -1.0226, -0.6616, -0.7951,\n",
              "         -0.1851, -1.7435,  2.2573,  0.5398, -1.3271,  0.8147, -1.0979],\n",
              "        [-0.2644,  0.7513,  0.5225, -0.7523, -0.2961,  1.8564, -0.0615, -1.3019,\n",
              "         -0.2718,  2.2009, -0.7645,  0.7109,  1.5836, -1.5125, -0.6231],\n",
              "        [-0.4898,  0.3744,  0.5175,  0.7854,  1.9962,  0.7912, -2.1849, -0.9853,\n",
              "         -0.3801,  0.8646,  0.6727, -0.8300, -2.0807,  1.3163, -0.5527],\n",
              "        [ 0.1934,  2.2272,  0.2054,  2.0273,  0.2382, -1.6295, -0.1194,  0.6711,\n",
              "          0.7227,  1.2126,  0.3951, -0.0089, -0.9029, -1.1956, -0.2333],\n",
              "        [-0.7580,  0.1499,  0.3953, -0.1409, -1.0642, -0.7631,  1.3220,  1.3393,\n",
              "         -1.0432, -0.2253,  0.2327,  1.5046, -0.6034,  1.3432,  0.3296],\n",
              "        [ 0.5835,  0.7835,  0.5241,  0.4872, -0.2093,  0.1271, -0.1965,  0.8912,\n",
              "         -1.1368, -0.8882, -0.0722, -0.5739,  1.0155, -0.7320, -1.4618],\n",
              "        [-0.7597, -1.2953,  0.2399, -0.5679,  0.0688, -0.8912, -1.6957, -0.6959,\n",
              "          0.6266, -0.3375, -0.9201,  0.7512,  0.2192, -0.7231, -1.2117]])"
            ]
          },
          "metadata": {},
          "execution_count": 27
        }
      ]
    },
    {
      "cell_type": "code",
      "source": [
        "mask = torch.tril(torch.ones(15,15))\n",
        "scores = scores.masked_fill(mask == 0, -float('inf') )\n",
        "scores"
      ],
      "metadata": {
        "colab": {
          "base_uri": "https://localhost:8080/"
        },
        "id": "a-kBEGzyQWg9",
        "outputId": "4d0d1f5b-949b-48ea-9cb5-af9fd1bd87f0"
      },
      "execution_count": null,
      "outputs": [
        {
          "output_type": "execute_result",
          "data": {
            "text/plain": [
              "tensor([[-1.4035,    -inf,    -inf,    -inf,    -inf,    -inf,    -inf,    -inf,\n",
              "            -inf,    -inf,    -inf,    -inf,    -inf,    -inf,    -inf],\n",
              "        [ 1.7277,  0.4565,    -inf,    -inf,    -inf,    -inf,    -inf,    -inf,\n",
              "            -inf,    -inf,    -inf,    -inf,    -inf,    -inf,    -inf],\n",
              "        [ 0.1205, -1.2391, -1.0687,    -inf,    -inf,    -inf,    -inf,    -inf,\n",
              "            -inf,    -inf,    -inf,    -inf,    -inf,    -inf,    -inf],\n",
              "        [-0.6714,  0.1324,  0.6402, -1.3400,    -inf,    -inf,    -inf,    -inf,\n",
              "            -inf,    -inf,    -inf,    -inf,    -inf,    -inf,    -inf],\n",
              "        [-1.4998,  0.0148, -0.7202,  0.3628,  2.2228,    -inf,    -inf,    -inf,\n",
              "            -inf,    -inf,    -inf,    -inf,    -inf,    -inf,    -inf],\n",
              "        [-1.0374,  0.2795, -1.3067,  0.7809,  0.4889, -0.1647,    -inf,    -inf,\n",
              "            -inf,    -inf,    -inf,    -inf,    -inf,    -inf,    -inf],\n",
              "        [ 0.7315,  1.0305, -0.1359, -0.2110,  0.6916,  1.6892, -0.8992,    -inf,\n",
              "            -inf,    -inf,    -inf,    -inf,    -inf,    -inf,    -inf],\n",
              "        [ 0.0341, -0.7279, -0.6390, -0.0583, -1.6734,  0.0136, -2.1642,  0.8704,\n",
              "            -inf,    -inf,    -inf,    -inf,    -inf,    -inf,    -inf],\n",
              "        [-1.0897,  1.1946, -1.0029, -0.8796, -0.5522, -1.0226, -0.6616, -0.7951,\n",
              "         -0.1851,    -inf,    -inf,    -inf,    -inf,    -inf,    -inf],\n",
              "        [-0.2644,  0.7513,  0.5225, -0.7523, -0.2961,  1.8564, -0.0615, -1.3019,\n",
              "         -0.2718,  2.2009,    -inf,    -inf,    -inf,    -inf,    -inf],\n",
              "        [-0.4898,  0.3744,  0.5175,  0.7854,  1.9962,  0.7912, -2.1849, -0.9853,\n",
              "         -0.3801,  0.8646,  0.6727,    -inf,    -inf,    -inf,    -inf],\n",
              "        [ 0.1934,  2.2272,  0.2054,  2.0273,  0.2382, -1.6295, -0.1194,  0.6711,\n",
              "          0.7227,  1.2126,  0.3951, -0.0089,    -inf,    -inf,    -inf],\n",
              "        [-0.7580,  0.1499,  0.3953, -0.1409, -1.0642, -0.7631,  1.3220,  1.3393,\n",
              "         -1.0432, -0.2253,  0.2327,  1.5046, -0.6034,    -inf,    -inf],\n",
              "        [ 0.5835,  0.7835,  0.5241,  0.4872, -0.2093,  0.1271, -0.1965,  0.8912,\n",
              "         -1.1368, -0.8882, -0.0722, -0.5739,  1.0155, -0.7320,    -inf],\n",
              "        [-0.7597, -1.2953,  0.2399, -0.5679,  0.0688, -0.8912, -1.6957, -0.6959,\n",
              "          0.6266, -0.3375, -0.9201,  0.7512,  0.2192, -0.7231, -1.2117]])"
            ]
          },
          "metadata": {},
          "execution_count": 32
        }
      ]
    }
  ]
}