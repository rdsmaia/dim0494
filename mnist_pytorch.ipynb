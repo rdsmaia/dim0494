{
  "nbformat": 4,
  "nbformat_minor": 0,
  "metadata": {
    "colab": {
      "provenance": [],
      "gpuType": "T4",
      "authorship_tag": "ABX9TyNweN2Ytz2KL3StOixmDzKG",
      "include_colab_link": true
    },
    "kernelspec": {
      "name": "python3",
      "display_name": "Python 3"
    },
    "language_info": {
      "name": "python"
    },
    "accelerator": "GPU"
  },
  "cells": [
    {
      "cell_type": "markdown",
      "metadata": {
        "id": "view-in-github",
        "colab_type": "text"
      },
      "source": [
        "<a href=\"https://colab.research.google.com/github/rdsmaia/dim0494/blob/main/mnist_pytorch.ipynb\" target=\"_parent\"><img src=\"https://colab.research.google.com/assets/colab-badge.svg\" alt=\"Open In Colab\"/></a>"
      ]
    },
    {
      "cell_type": "code",
      "execution_count": 179,
      "metadata": {
        "id": "nQcikurlLWMY"
      },
      "outputs": [],
      "source": [
        "# bibliotecas\n",
        "import torch\n",
        "import torchvision\n",
        "import random\n",
        "import torch.nn as nn\n",
        "import matplotlib.pyplot as plt\n",
        "import seaborn as sns\n",
        "from torch.utils.data import DataLoader\n",
        "from torch import optim\n",
        "from tqdm import tqdm\n",
        "from sklearn.metrics import confusion_matrix"
      ]
    },
    {
      "cell_type": "code",
      "source": [
        "# GPU ou não\n",
        "device = torch.device('cuda' if torch.cuda.is_available() else 'cpu')\n",
        "print(f'Device = {device}\\n')\n",
        "print(f'Properties: {torch.cuda.get_device_properties(device=device)}\\n')"
      ],
      "metadata": {
        "colab": {
          "base_uri": "https://localhost:8080/"
        },
        "id": "wFcJz_BaL3Bo",
        "outputId": "7a848542-72f9-4dcc-e344-44d52839601f"
      },
      "execution_count": 146,
      "outputs": [
        {
          "output_type": "stream",
          "name": "stdout",
          "text": [
            "Device = cuda\n",
            "\n",
            "Properties: _CudaDeviceProperties(name='Tesla T4', major=7, minor=5, total_memory=15102MB, multi_processor_count=40)\n",
            "\n"
          ]
        }
      ]
    },
    {
      "cell_type": "code",
      "source": [
        "# define transformada das imagens, incluindo normalização\n",
        "transform = torchvision.transforms.Compose([\n",
        "    # transforma imagens em tensores\n",
        "    torchvision.transforms.ToTensor(),\n",
        "])"
      ],
      "metadata": {
        "id": "eCvPNyst0WjY"
      },
      "execution_count": 152,
      "outputs": []
    },
    {
      "cell_type": "code",
      "source": [
        "# carrega base de dados\n",
        "# treino\n",
        "train_data = torchvision.datasets.MNIST(\n",
        "    root = 'data',\n",
        "    train = True,\n",
        "    download = True,\n",
        "    transform = transform\n",
        ")\n",
        "# teste\n",
        "test_data = torchvision.datasets.MNIST(\n",
        "    root = 'data',\n",
        "    train = False,\n",
        "    download = True,\n",
        "    transform = transform\n",
        ")"
      ],
      "metadata": {
        "id": "25xirBBSMfAg"
      },
      "execution_count": 153,
      "outputs": []
    },
    {
      "cell_type": "code",
      "source": [
        "# imprime dados\n",
        "print(f'Training dataset: \\n{train_data}\\n')\n",
        "print(f'Test dataset: \\n{test_data}\\n')"
      ],
      "metadata": {
        "colab": {
          "base_uri": "https://localhost:8080/"
        },
        "id": "rII1489AMnDo",
        "outputId": "d66c98b3-cb88-4f15-8226-558c02d2ec19"
      },
      "execution_count": 154,
      "outputs": [
        {
          "output_type": "stream",
          "name": "stdout",
          "text": [
            "Training dataset: \n",
            "Dataset MNIST\n",
            "    Number of datapoints: 60000\n",
            "    Root location: data\n",
            "    Split: Train\n",
            "    StandardTransform\n",
            "Transform: Compose(\n",
            "               ToTensor()\n",
            "           )\n",
            "\n",
            "Test dataset: \n",
            "Dataset MNIST\n",
            "    Number of datapoints: 10000\n",
            "    Root location: data\n",
            "    Split: Test\n",
            "    StandardTransform\n",
            "Transform: Compose(\n",
            "               ToTensor()\n",
            "           )\n",
            "\n"
          ]
        }
      ]
    },
    {
      "cell_type": "code",
      "source": [
        "# ver o formato dos dados\n",
        "print(f'Training data format: {train_data.data.shape}\\n')\n",
        "print(f'Test data format: {test_data.data.shape}\\n')"
      ],
      "metadata": {
        "colab": {
          "base_uri": "https://localhost:8080/"
        },
        "id": "3XZD5MlzMxym",
        "outputId": "88e6c291-163c-47a7-9d79-9d0aa493744d"
      },
      "execution_count": 155,
      "outputs": [
        {
          "output_type": "stream",
          "name": "stdout",
          "text": [
            "Training data format: torch.Size([60000, 28, 28])\n",
            "\n",
            "Test data format: torch.Size([10000, 28, 28])\n",
            "\n"
          ]
        }
      ]
    },
    {
      "cell_type": "code",
      "source": [
        "# verifica os valores\n",
        "print(f'Min-max da base de treino: {train_data.data.min().item(), train_data.data.max().item()}\\n')\n",
        "print(f'Min-max da base de teste: {test_data.data.min().item(), test_data.data.max().item()}\\n')\n",
        "print(f'Min-max targets de treino: {train_data.targets.min().item(), train_data.targets.max().item()}\\n')\n",
        "print(f'Min-max targets de teste: {test_data.targets.min().item(), test_data.targets.max().item()}\\n')"
      ],
      "metadata": {
        "colab": {
          "base_uri": "https://localhost:8080/"
        },
        "id": "Jeu04Rl9ggJV",
        "outputId": "3c439f15-c8bc-4c7b-c34e-38dab0fc73f6"
      },
      "execution_count": 158,
      "outputs": [
        {
          "output_type": "stream",
          "name": "stdout",
          "text": [
            "Min-max da base de treino: (0, 255)\n",
            "\n",
            "Min-max da base de teste: (0, 255)\n",
            "\n",
            "Min-max targets de treino: (0, 9)\n",
            "\n",
            "Min-max targets de teste: (0, 9)\n",
            "\n"
          ]
        }
      ]
    },
    {
      "cell_type": "code",
      "source": [
        "# vamos olhar uma imagem aleatória da base de treino\n",
        "ind = random.randint(0,len(train_data))\n",
        "plt.imshow(train_data.data[ind], cmap='gray')\n",
        "plt.title(f'Label: {train_data.targets[ind]}')\n",
        "plt.show()"
      ],
      "metadata": {
        "colab": {
          "base_uri": "https://localhost:8080/",
          "height": 452
        },
        "id": "O0oJc1o3M7ZS",
        "outputId": "2e79cad4-2cf2-44a4-aca5-996ea96d17ad"
      },
      "execution_count": 159,
      "outputs": [
        {
          "output_type": "display_data",
          "data": {
            "text/plain": [
              "<Figure size 640x480 with 1 Axes>"
            ],
            "image/png": "[encoded data removed]"
          },
          "metadata": {}
        }
      ]
    },
    {
      "cell_type": "code",
      "source": [
        "# agora vamos olhar várias imagens\n",
        "figure = plt.figure(figsize=(10, 8))\n",
        "cols, rows = 5, 5\n",
        "for i in range(1, cols * rows + 1):\n",
        "    sample_idx = torch.randint(len(train_data), size=(1,)).item()\n",
        "    img, label = train_data.data[sample_idx], train_data.targets[sample_idx]\n",
        "    figure.add_subplot(rows, cols, i)\n",
        "    plt.title(f'Label={label.item()}')\n",
        "    plt.axis(\"off\")\n",
        "    plt.imshow(img.squeeze(), cmap=\"gray\")\n",
        "plt.show()"
      ],
      "metadata": {
        "colab": {
          "base_uri": "https://localhost:8080/",
          "height": 675
        },
        "id": "QIWHsOIhNFOl",
        "outputId": "3a8c5bf5-7fbd-4638-db6f-5b7ea487de32"
      },
      "execution_count": 160,
      "outputs": [
        {
          "output_type": "display_data",
          "data": {
            "text/plain": [
              "<Figure size 1000x800 with 25 Axes>"
            ],
            "image/png": "[encoded data removed]"
          },
          "metadata": {}
        }
      ]
    },
    {
      "cell_type": "code",
      "source": [
        "# hiperparâmetros\n",
        "num_epochs = 10\n",
        "learning_rate = 0.01\n",
        "batch_size = 120\n",
        "log_steps = 100\n",
        "test_batch_size = len(test_data) // (len(train_data) // batch_size)\n",
        "print(f'Batch size for the test data {test_batch_size}\\n')"
      ],
      "metadata": {
        "colab": {
          "base_uri": "https://localhost:8080/"
        },
        "id": "LN4B9HeLq-7q",
        "outputId": "71eb40de-2de9-499e-aad5-da0de3078d56"
      },
      "execution_count": 161,
      "outputs": [
        {
          "output_type": "stream",
          "name": "stdout",
          "text": [
            "Batch size for the test data 20\n",
            "\n"
          ]
        }
      ]
    },
    {
      "cell_type": "code",
      "source": [
        "# criação do gerador de dados\n",
        "loaders = {\n",
        "    'train' : DataLoader(train_data,\n",
        "                         batch_size=batch_size,\n",
        "                         shuffle=True),\n",
        "\n",
        "    'test'  : DataLoader(test_data,\n",
        "                         batch_size=test_batch_size,\n",
        "                         shuffle=True),\n",
        "}"
      ],
      "metadata": {
        "id": "gqDw-PKSNJ7M"
      },
      "execution_count": 162,
      "outputs": []
    },
    {
      "cell_type": "code",
      "source": [
        "# imprime dois lotes\n",
        "for i, batch in enumerate(loaders['train']):\n",
        "  # imprime formato, máximos e mínimos de X\n",
        "  print(f'batch {i}, X shape: {batch[0].shape}, min: {batch[0].min().item()}, max: {batch[0].max().item()}')\n",
        "  #imprime formato, máximos e mínimos de y\n",
        "  print(f'batch {i}, y shape: {batch[1].shape}, min: {batch[1].min().item()}, max: {batch[1].max().item()}')\n",
        "  if i == 3:\n",
        "    break"
      ],
      "metadata": {
        "colab": {
          "base_uri": "https://localhost:8080/"
        },
        "id": "jfIQVP1Qlp-E",
        "outputId": "3063c029-3dcb-48e8-f549-a92e65e11e0b"
      },
      "execution_count": 167,
      "outputs": [
        {
          "output_type": "stream",
          "name": "stdout",
          "text": [
            "batch 0, X shape: torch.Size([120, 1, 28, 28]), min: 0.0, max: 1.0\n",
            "batch 0, y shape: torch.Size([120]), min: 0, max: 9\n",
            "batch 1, X shape: torch.Size([120, 1, 28, 28]), min: 0.0, max: 1.0\n",
            "batch 1, y shape: torch.Size([120]), min: 0, max: 9\n",
            "batch 2, X shape: torch.Size([120, 1, 28, 28]), min: 0.0, max: 1.0\n",
            "batch 2, y shape: torch.Size([120]), min: 0, max: 9\n",
            "batch 3, X shape: torch.Size([120, 1, 28, 28]), min: 0.0, max: 1.0\n",
            "batch 3, y shape: torch.Size([120]), min: 0, max: 9\n"
          ]
        }
      ]
    },
    {
      "cell_type": "code",
      "source": [
        "# modelo\n",
        "class CNN(nn.Module):\n",
        "  def __init__(self):\n",
        "    super(CNN, self).__init__()\n",
        "    # primeira camada convolucional\n",
        "    self.conv1 = nn.Sequential(\n",
        "          nn.Conv2d(\n",
        "                in_channels=1,\n",
        "                out_channels=16,\n",
        "                kernel_size=5,\n",
        "                stride=1,\n",
        "                padding=2\n",
        "          ),\n",
        "          nn.ReLU(),\n",
        "          nn.MaxPool2d(kernel_size=2),\n",
        "        )\n",
        "    # segunda camada convolucional\n",
        "    self.conv2 = nn.Sequential(\n",
        "          nn.Conv2d(in_channels=16,\n",
        "                    out_channels=32,\n",
        "                    kernel_size=5,\n",
        "                    stride=1,\n",
        "                    padding=2\n",
        "            ),\n",
        "            nn.ReLU(),\n",
        "            nn.MaxPool2d(kernel_size=2),\n",
        "        )\n",
        "    # transforma mapa de atributes 2d em um vetor 1d\n",
        "    self.flatten = nn.Flatten()\n",
        "\n",
        "    # camada ff final com 10 saídas\n",
        "    self.out = nn.Linear(in_features=32 * 7 * 7,\n",
        "                         out_features=10)\n",
        "\n",
        "  def forward(self, x):\n",
        "        x = self.conv1(x)\n",
        "        x = self.conv2(x)\n",
        "        x = self.flatten(x)\n",
        "        output = self.out(x)\n",
        "        return output"
      ],
      "metadata": {
        "id": "xMBNMeT-OfzB"
      },
      "execution_count": 168,
      "outputs": []
    },
    {
      "cell_type": "code",
      "source": [
        "# imprime modelo\n",
        "cnn = CNN()\n",
        "print(cnn)"
      ],
      "metadata": {
        "colab": {
          "base_uri": "https://localhost:8080/"
        },
        "id": "hb2jozoSRzF9",
        "outputId": "ff8e3c89-3e64-4552-a7a9-f8fb5a89f736"
      },
      "execution_count": 169,
      "outputs": [
        {
          "output_type": "stream",
          "name": "stdout",
          "text": [
            "CNN(\n",
            "  (conv1): Sequential(\n",
            "    (0): Conv2d(1, 16, kernel_size=(5, 5), stride=(1, 1), padding=(2, 2))\n",
            "    (1): ReLU()\n",
            "    (2): MaxPool2d(kernel_size=2, stride=2, padding=0, dilation=1, ceil_mode=False)\n",
            "  )\n",
            "  (conv2): Sequential(\n",
            "    (0): Conv2d(16, 32, kernel_size=(5, 5), stride=(1, 1), padding=(2, 2))\n",
            "    (1): ReLU()\n",
            "    (2): MaxPool2d(kernel_size=2, stride=2, padding=0, dilation=1, ceil_mode=False)\n",
            "  )\n",
            "  (flatten): Flatten(start_dim=1, end_dim=-1)\n",
            "  (out): Linear(in_features=1568, out_features=10, bias=True)\n",
            ")\n"
          ]
        }
      ]
    },
    {
      "cell_type": "code",
      "source": [
        "# definição da função custo\n",
        "loss_func = nn.CrossEntropyLoss()"
      ],
      "metadata": {
        "id": "bDby52B1SEIA"
      },
      "execution_count": 170,
      "outputs": []
    },
    {
      "cell_type": "code",
      "source": [
        "# define o otimizador\n",
        "optimizer = optim.Adam(\n",
        "    cnn.parameters(),\n",
        "    lr = learning_rate # taxa de aprendizado\n",
        "    )\n",
        "optimizer"
      ],
      "metadata": {
        "colab": {
          "base_uri": "https://localhost:8080/"
        },
        "id": "gDM6ShRGSS7H",
        "outputId": "0b3768a5-e9a6-45b0-e06d-c97a02383ee9"
      },
      "execution_count": 171,
      "outputs": [
        {
          "output_type": "execute_result",
          "data": {
            "text/plain": [
              "Adam (\n",
              "Parameter Group 0\n",
              "    amsgrad: False\n",
              "    betas: (0.9, 0.999)\n",
              "    capturable: False\n",
              "    differentiable: False\n",
              "    eps: 1e-08\n",
              "    foreach: None\n",
              "    fused: None\n",
              "    lr: 0.01\n",
              "    maximize: False\n",
              "    weight_decay: 0\n",
              ")"
            ]
          },
          "metadata": {},
          "execution_count": 171
        }
      ]
    },
    {
      "cell_type": "code",
      "source": [
        "# Verifica se o modelo funciona para base de dados\n",
        "for i, batch in enumerate(loaders['train']):\n",
        "  # imagem\n",
        "  X = batch[0]\n",
        "  # etiqueta\n",
        "  y = batch[1]\n",
        "  # etiqueta predita\n",
        "  y_hat = cnn(X)\n",
        "  # error (custo)\n",
        "  loss = loss_func(y_hat, y)\n",
        "  print(f'For batch {i}, loss = {loss}')\n",
        "  if i == 2:\n",
        "    break"
      ],
      "metadata": {
        "colab": {
          "base_uri": "https://localhost:8080/"
        },
        "id": "EOjH7iLbpcAt",
        "outputId": "fecc628a-4874-46da-e4d7-838ee008a738"
      },
      "execution_count": 172,
      "outputs": [
        {
          "output_type": "stream",
          "name": "stdout",
          "text": [
            "For batch 0, loss = 2.3079795837402344\n",
            "For batch 1, loss = 2.3065383434295654\n",
            "For batch 2, loss = 2.3114407062530518\n"
          ]
        }
      ]
    },
    {
      "cell_type": "code",
      "source": [
        "# definição da função de treino\n",
        "def train(num_epochs, cnn, loaders):\n",
        "\n",
        "  # determina o modo treino\n",
        "  cnn.train()\n",
        "\n",
        "  # número de batches na based de treino\n",
        "  total_step = len(loaders['train'])\n",
        "\n",
        "  accum_loss = []\n",
        "  accum_loss_val = []\n",
        "\n",
        "  # faça para cada época\n",
        "  for epoch in range(num_epochs):\n",
        "\n",
        "    # faça para cada batch\n",
        "    for i, ((X, y), (X_val, y_val)) in enumerate(zip(loaders['train'], loaders['test'])):\n",
        "\n",
        "      # saída da rede\n",
        "      y_hat = cnn(X)\n",
        "\n",
        "      # erro da saída da rede\n",
        "      loss = loss_func(y_hat, y)\n",
        "\n",
        "      # passa dados de validação pelo modelo\n",
        "      y_val_hat = cnn(X_val)\n",
        "\n",
        "      # calcula erro na base de validação\n",
        "      loss_val = loss_func(y_val_hat, y_val)\n",
        "\n",
        "      # clear gradients for this training step\n",
        "      optimizer.zero_grad()\n",
        "\n",
        "      # backpropagation, compute gradients\n",
        "      loss.backward()\n",
        "\n",
        "      # apply gradients\n",
        "      optimizer.step()\n",
        "\n",
        "      if (i+1) % log_steps == 0:\n",
        "        print ('Epoch [{}/{}], Step [{}/{}], Loss: {:.4f}, Val Loss: {:.4f}'\n",
        "                       .format(epoch + 1, num_epochs, i + 1, total_step, loss.item(), loss_val.item()))\n",
        "      accum_loss.append(loss.item())\n",
        "      accum_loss_val.append(loss_val.item())\n",
        "\n",
        "  return accum_loss, accum_loss_val"
      ],
      "metadata": {
        "id": "WwxDSkmgSmfz"
      },
      "execution_count": 174,
      "outputs": []
    },
    {
      "cell_type": "code",
      "source": [
        "# treinamento da rede\n",
        "accum_loss, accum_loss_val = train(num_epochs, cnn, loaders)"
      ],
      "metadata": {
        "colab": {
          "base_uri": "https://localhost:8080/"
        },
        "id": "UerTeIqiUGjY",
        "outputId": "86861e64-d0fb-4885-bbd4-e895527d4136"
      },
      "execution_count": 175,
      "outputs": [
        {
          "output_type": "stream",
          "name": "stdout",
          "text": [
            "Epoch [1/10], Step [100/500], Loss: 0.1592, Val Loss: 0.0689\n",
            "Epoch [1/10], Step [200/500], Loss: 0.0378, Val Loss: 0.0311\n",
            "Epoch [1/10], Step [300/500], Loss: 0.0646, Val Loss: 0.0455\n",
            "Epoch [1/10], Step [400/500], Loss: 0.1573, Val Loss: 0.0118\n",
            "Epoch [1/10], Step [500/500], Loss: 0.2219, Val Loss: 0.0073\n",
            "Epoch [2/10], Step [100/500], Loss: 0.0994, Val Loss: 0.0093\n",
            "Epoch [2/10], Step [200/500], Loss: 0.0588, Val Loss: 0.2807\n",
            "Epoch [2/10], Step [300/500], Loss: 0.0507, Val Loss: 0.1215\n",
            "Epoch [2/10], Step [400/500], Loss: 0.1019, Val Loss: 0.0269\n",
            "Epoch [2/10], Step [500/500], Loss: 0.0552, Val Loss: 0.0068\n",
            "Epoch [3/10], Step [100/500], Loss: 0.0671, Val Loss: 0.0041\n",
            "Epoch [3/10], Step [200/500], Loss: 0.0537, Val Loss: 0.0239\n",
            "Epoch [3/10], Step [300/500], Loss: 0.0483, Val Loss: 0.0023\n",
            "Epoch [3/10], Step [400/500], Loss: 0.0983, Val Loss: 0.0003\n",
            "Epoch [3/10], Step [500/500], Loss: 0.0362, Val Loss: 0.0093\n",
            "Epoch [4/10], Step [100/500], Loss: 0.0083, Val Loss: 0.0032\n",
            "Epoch [4/10], Step [200/500], Loss: 0.0491, Val Loss: 0.0049\n",
            "Epoch [4/10], Step [300/500], Loss: 0.0897, Val Loss: 0.2189\n",
            "Epoch [4/10], Step [400/500], Loss: 0.1104, Val Loss: 0.0013\n",
            "Epoch [4/10], Step [500/500], Loss: 0.0864, Val Loss: 0.0027\n",
            "Epoch [5/10], Step [100/500], Loss: 0.0534, Val Loss: 0.0089\n",
            "Epoch [5/10], Step [200/500], Loss: 0.0407, Val Loss: 0.0060\n",
            "Epoch [5/10], Step [300/500], Loss: 0.0227, Val Loss: 0.0003\n",
            "Epoch [5/10], Step [400/500], Loss: 0.0199, Val Loss: 0.0007\n",
            "Epoch [5/10], Step [500/500], Loss: 0.0644, Val Loss: 0.0006\n",
            "Epoch [6/10], Step [100/500], Loss: 0.0186, Val Loss: 0.0000\n",
            "Epoch [6/10], Step [200/500], Loss: 0.0059, Val Loss: 0.0005\n",
            "Epoch [6/10], Step [300/500], Loss: 0.0050, Val Loss: 0.0003\n",
            "Epoch [6/10], Step [400/500], Loss: 0.0563, Val Loss: 0.0031\n",
            "Epoch [6/10], Step [500/500], Loss: 0.1137, Val Loss: 0.0882\n",
            "Epoch [7/10], Step [100/500], Loss: 0.0062, Val Loss: 0.0130\n",
            "Epoch [7/10], Step [200/500], Loss: 0.0388, Val Loss: 0.0185\n",
            "Epoch [7/10], Step [300/500], Loss: 0.0171, Val Loss: 0.0017\n",
            "Epoch [7/10], Step [400/500], Loss: 0.0139, Val Loss: 0.4279\n",
            "Epoch [7/10], Step [500/500], Loss: 0.0203, Val Loss: 0.2672\n",
            "Epoch [8/10], Step [100/500], Loss: 0.0295, Val Loss: 0.0024\n",
            "Epoch [8/10], Step [200/500], Loss: 0.0503, Val Loss: 0.0000\n",
            "Epoch [8/10], Step [300/500], Loss: 0.0166, Val Loss: 0.0001\n",
            "Epoch [8/10], Step [400/500], Loss: 0.0088, Val Loss: 0.0343\n",
            "Epoch [8/10], Step [500/500], Loss: 0.0261, Val Loss: 0.0047\n",
            "Epoch [9/10], Step [100/500], Loss: 0.0103, Val Loss: 0.0054\n",
            "Epoch [9/10], Step [200/500], Loss: 0.0508, Val Loss: 0.6520\n",
            "Epoch [9/10], Step [300/500], Loss: 0.0021, Val Loss: 0.0010\n",
            "Epoch [9/10], Step [400/500], Loss: 0.1492, Val Loss: 0.4078\n",
            "Epoch [9/10], Step [500/500], Loss: 0.0439, Val Loss: 0.0281\n",
            "Epoch [10/10], Step [100/500], Loss: 0.0051, Val Loss: 0.0002\n",
            "Epoch [10/10], Step [200/500], Loss: 0.1124, Val Loss: 0.0064\n",
            "Epoch [10/10], Step [300/500], Loss: 0.0044, Val Loss: 0.0004\n",
            "Epoch [10/10], Step [400/500], Loss: 0.1102, Val Loss: 0.2844\n",
            "Epoch [10/10], Step [500/500], Loss: 0.0045, Val Loss: 0.0070\n"
          ]
        }
      ]
    },
    {
      "cell_type": "code",
      "source": [
        "# produz as curvas de aprendizado\n",
        "plt.figure()\n",
        "plt.plot(accum_loss_val, 'r', label=\"Validação\")\n",
        "plt.plot(accum_loss, 'b', label=\"Treinamento\")\n",
        "plt.title(\"Curva de aprendizado: Erro CNN\")\n",
        "plt.xlabel(\"Época\")\n",
        "plt.ylabel(\"Erro\")\n",
        "plt.legend()"
      ],
      "metadata": {
        "colab": {
          "base_uri": "https://localhost:8080/",
          "height": 491
        },
        "id": "M2EY7tCcbk19",
        "outputId": "61a3a06f-1cc6-4b91-c3a1-5b37609a8cc0"
      },
      "execution_count": 176,
      "outputs": [
        {
          "output_type": "execute_result",
          "data": {
            "text/plain": [
              "<matplotlib.legend.Legend at 0x7e1dc112fca0>"
            ]
          },
          "metadata": {},
          "execution_count": 176
        },
        {
          "output_type": "display_data",
          "data": {
            "text/plain": [
              "<Figure size 640x480 with 1 Axes>"
            ],
            "image/png": "[encoded data removed]"
          },
          "metadata": {}
        }
      ]
    },
    {
      "cell_type": "code",
      "source": [
        "# definição de uma função para teste\n",
        "def test(loaders):\n",
        "\n",
        "    pred_labels = []\n",
        "    true_labels = []\n",
        "    ncorrect = 0.0\n",
        "\n",
        "    # ajusta o modelo para modo teste\n",
        "    cnn.eval()\n",
        "\n",
        "    # determina que não é préciso calcular gradientes\n",
        "    with torch.no_grad():\n",
        "\n",
        "        # para cada batch de teste\n",
        "        for X_test, y_test in tqdm(loaders['test'], total=len(loaders['test'])):\n",
        "\n",
        "            # passa o lote pelo modelo\n",
        "            y_test_hat = cnn(X_test)\n",
        "\n",
        "            # determina o índice máximo\n",
        "            pred_y_test = torch.argmax(y_test_hat, dim=-1)\n",
        "\n",
        "            # número de corretos\n",
        "            ncorrect += (pred_y_test == y_test).sum().item()\n",
        "\n",
        "            # acumula valores preditos\n",
        "            pred_labels.extend(pred_y_test)\n",
        "            true_labels.extend(y_test)\n",
        "        # acurácia média\n",
        "        acc = ncorrect / len(test_data)\n",
        "        print(f'Mean accuracy: {acc}')\n",
        "\n",
        "    # matrix de confusão\n",
        "    cm = confusion_matrix(true_labels, pred_labels)\n",
        "    sns.heatmap(cm, annot=True, fmt='.0f', cmap='Blues')"
      ],
      "metadata": {
        "id": "Ix6AGiqdVyqL"
      },
      "execution_count": 181,
      "outputs": []
    },
    {
      "cell_type": "code",
      "source": [
        "# testar o modelo\n",
        "test(loaders)"
      ],
      "metadata": {
        "colab": {
          "base_uri": "https://localhost:8080/",
          "height": 465
        },
        "id": "mXDoGEoOXJPI",
        "outputId": "469ea6a0-abb7-43f6-f865-31deb2119b2b"
      },
      "execution_count": 182,
      "outputs": [
        {
          "output_type": "stream",
          "name": "stderr",
          "text": [
            "100%|██████████| 500/500 [00:03<00:00, 125.37it/s]\n"
          ]
        },
        {
          "output_type": "stream",
          "name": "stdout",
          "text": [
            "Mean accuracy: 0.9853\n"
          ]
        },
        {
          "output_type": "display_data",
          "data": {
            "text/plain": [
              "<Figure size 640x480 with 2 Axes>"
            ],
            "image/png": "[encoded data removed]"
          },
          "metadata": {}
        }
      ]
    }
  ]
}